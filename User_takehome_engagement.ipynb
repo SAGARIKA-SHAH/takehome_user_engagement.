{
  "nbformat": 4,
  "nbformat_minor": 0,
  "metadata": {
    "colab": {
      "provenance": [],
      "authorship_tag": "ABX9TyOLY6y8Alyy/EDO4//SszjC",
      "include_colab_link": true
    },
    "kernelspec": {
      "name": "python3",
      "display_name": "Python 3"
    },
    "language_info": {
      "name": "python"
    }
  },
  "cells": [
    {
      "cell_type": "markdown",
      "metadata": {
        "id": "view-in-github",
        "colab_type": "text"
      },
      "source": [
        "<a href=\"https://colab.research.google.com/github/SAGARIKA-SHAH/takehome_user_engagement./blob/main/User_takehome_engagement.ipynb\" target=\"_parent\"><img src=\"https://colab.research.google.com/assets/colab-badge.svg\" alt=\"Open In Colab\"/></a>"
      ]
    },
    {
      "cell_type": "code",
      "execution_count": 2,
      "metadata": {
        "id": "Aeak-tOJiOHO"
      },
      "outputs": [],
      "source": [
        "import pandas as pd\n",
        "import matplotlib.pyplot as plt\n",
        "import numpy as np"
      ]
    },
    {
      "cell_type": "code",
      "source": [
        "df=pd.read_csv(\"https://raw.githubusercontent.com/SAGARIKA-SHAH/takehome_user_engagement./main/takehome_user_engagement.csv\")"
      ],
      "metadata": {
        "id": "Nyn-dT8Ui0ul"
      },
      "execution_count": 3,
      "outputs": []
    },
    {
      "cell_type": "code",
      "source": [
        "df.columns"
      ],
      "metadata": {
        "colab": {
          "base_uri": "https://localhost:8080/"
        },
        "id": "BjSIxAF4j-JH",
        "outputId": "2fadf676-683e-46aa-c371-3cb15bcf9004"
      },
      "execution_count": 4,
      "outputs": [
        {
          "output_type": "execute_result",
          "data": {
            "text/plain": [
              "Index(['time_stamp', 'user_id', 'visited'], dtype='object')"
            ]
          },
          "metadata": {},
          "execution_count": 4
        }
      ]
    },
    {
      "cell_type": "code",
      "source": [
        "list_users=df.user_id.unique()\n",
        "list_users=list_users.tolist()\n",
        "len(list_users)"
      ],
      "metadata": {
        "colab": {
          "base_uri": "https://localhost:8080/"
        },
        "id": "FgSoGcgHbV_P",
        "outputId": "160ee93b-9dff-4be1-d704-6d8cdc01573d"
      },
      "execution_count": 5,
      "outputs": [
        {
          "output_type": "execute_result",
          "data": {
            "text/plain": [
              "8823"
            ]
          },
          "metadata": {},
          "execution_count": 5
        }
      ]
    },
    {
      "cell_type": "code",
      "source": [
        "df.dtypes"
      ],
      "metadata": {
        "colab": {
          "base_uri": "https://localhost:8080/"
        },
        "id": "OvdFVxxzd55O",
        "outputId": "47458ccf-7663-4e3c-d580-c9d2bb731573"
      },
      "execution_count": 6,
      "outputs": [
        {
          "output_type": "execute_result",
          "data": {
            "text/plain": [
              "time_stamp    object\n",
              "user_id        int64\n",
              "visited        int64\n",
              "dtype: object"
            ]
          },
          "metadata": {},
          "execution_count": 6
        }
      ]
    },
    {
      "cell_type": "code",
      "source": [
        "df.head()"
      ],
      "metadata": {
        "colab": {
          "base_uri": "https://localhost:8080/",
          "height": 206
        },
        "id": "Dvv4vhjyf0XC",
        "outputId": "effbebf2-f538-40de-83be-6c8a77963e44"
      },
      "execution_count": 7,
      "outputs": [
        {
          "output_type": "execute_result",
          "data": {
            "text/plain": [
              "            time_stamp  user_id  visited\n",
              "0  2014-04-22 03:53:30        1        1\n",
              "1  2013-11-15 03:45:04        2        1\n",
              "2  2013-11-29 03:45:04        2        1\n",
              "3  2013-12-09 03:45:04        2        1\n",
              "4  2013-12-25 03:45:04        2        1"
            ],
            "text/html": [
              "\n",
              "  <div id=\"df-ef9735a9-1088-42d2-ad6b-2698b952301c\">\n",
              "    <div class=\"colab-df-container\">\n",
              "      <div>\n",
              "<style scoped>\n",
              "    .dataframe tbody tr th:only-of-type {\n",
              "        vertical-align: middle;\n",
              "    }\n",
              "\n",
              "    .dataframe tbody tr th {\n",
              "        vertical-align: top;\n",
              "    }\n",
              "\n",
              "    .dataframe thead th {\n",
              "        text-align: right;\n",
              "    }\n",
              "</style>\n",
              "<table border=\"1\" class=\"dataframe\">\n",
              "  <thead>\n",
              "    <tr style=\"text-align: right;\">\n",
              "      <th></th>\n",
              "      <th>time_stamp</th>\n",
              "      <th>user_id</th>\n",
              "      <th>visited</th>\n",
              "    </tr>\n",
              "  </thead>\n",
              "  <tbody>\n",
              "    <tr>\n",
              "      <th>0</th>\n",
              "      <td>2014-04-22 03:53:30</td>\n",
              "      <td>1</td>\n",
              "      <td>1</td>\n",
              "    </tr>\n",
              "    <tr>\n",
              "      <th>1</th>\n",
              "      <td>2013-11-15 03:45:04</td>\n",
              "      <td>2</td>\n",
              "      <td>1</td>\n",
              "    </tr>\n",
              "    <tr>\n",
              "      <th>2</th>\n",
              "      <td>2013-11-29 03:45:04</td>\n",
              "      <td>2</td>\n",
              "      <td>1</td>\n",
              "    </tr>\n",
              "    <tr>\n",
              "      <th>3</th>\n",
              "      <td>2013-12-09 03:45:04</td>\n",
              "      <td>2</td>\n",
              "      <td>1</td>\n",
              "    </tr>\n",
              "    <tr>\n",
              "      <th>4</th>\n",
              "      <td>2013-12-25 03:45:04</td>\n",
              "      <td>2</td>\n",
              "      <td>1</td>\n",
              "    </tr>\n",
              "  </tbody>\n",
              "</table>\n",
              "</div>\n",
              "      <button class=\"colab-df-convert\" onclick=\"convertToInteractive('df-ef9735a9-1088-42d2-ad6b-2698b952301c')\"\n",
              "              title=\"Convert this dataframe to an interactive table.\"\n",
              "              style=\"display:none;\">\n",
              "        \n",
              "  <svg xmlns=\"http://www.w3.org/2000/svg\" height=\"24px\"viewBox=\"0 0 24 24\"\n",
              "       width=\"24px\">\n",
              "    <path d=\"M0 0h24v24H0V0z\" fill=\"none\"/>\n",
              "    <path d=\"M18.56 5.44l.94 2.06.94-2.06 2.06-.94-2.06-.94-.94-2.06-.94 2.06-2.06.94zm-11 1L8.5 8.5l.94-2.06 2.06-.94-2.06-.94L8.5 2.5l-.94 2.06-2.06.94zm10 10l.94 2.06.94-2.06 2.06-.94-2.06-.94-.94-2.06-.94 2.06-2.06.94z\"/><path d=\"M17.41 7.96l-1.37-1.37c-.4-.4-.92-.59-1.43-.59-.52 0-1.04.2-1.43.59L10.3 9.45l-7.72 7.72c-.78.78-.78 2.05 0 2.83L4 21.41c.39.39.9.59 1.41.59.51 0 1.02-.2 1.41-.59l7.78-7.78 2.81-2.81c.8-.78.8-2.07 0-2.86zM5.41 20L4 18.59l7.72-7.72 1.47 1.35L5.41 20z\"/>\n",
              "  </svg>\n",
              "      </button>\n",
              "      \n",
              "  <style>\n",
              "    .colab-df-container {\n",
              "      display:flex;\n",
              "      flex-wrap:wrap;\n",
              "      gap: 12px;\n",
              "    }\n",
              "\n",
              "    .colab-df-convert {\n",
              "      background-color: #E8F0FE;\n",
              "      border: none;\n",
              "      border-radius: 50%;\n",
              "      cursor: pointer;\n",
              "      display: none;\n",
              "      fill: #1967D2;\n",
              "      height: 32px;\n",
              "      padding: 0 0 0 0;\n",
              "      width: 32px;\n",
              "    }\n",
              "\n",
              "    .colab-df-convert:hover {\n",
              "      background-color: #E2EBFA;\n",
              "      box-shadow: 0px 1px 2px rgba(60, 64, 67, 0.3), 0px 1px 3px 1px rgba(60, 64, 67, 0.15);\n",
              "      fill: #174EA6;\n",
              "    }\n",
              "\n",
              "    [theme=dark] .colab-df-convert {\n",
              "      background-color: #3B4455;\n",
              "      fill: #D2E3FC;\n",
              "    }\n",
              "\n",
              "    [theme=dark] .colab-df-convert:hover {\n",
              "      background-color: #434B5C;\n",
              "      box-shadow: 0px 1px 3px 1px rgba(0, 0, 0, 0.15);\n",
              "      filter: drop-shadow(0px 1px 2px rgba(0, 0, 0, 0.3));\n",
              "      fill: #FFFFFF;\n",
              "    }\n",
              "  </style>\n",
              "\n",
              "      <script>\n",
              "        const buttonEl =\n",
              "          document.querySelector('#df-ef9735a9-1088-42d2-ad6b-2698b952301c button.colab-df-convert');\n",
              "        buttonEl.style.display =\n",
              "          google.colab.kernel.accessAllowed ? 'block' : 'none';\n",
              "\n",
              "        async function convertToInteractive(key) {\n",
              "          const element = document.querySelector('#df-ef9735a9-1088-42d2-ad6b-2698b952301c');\n",
              "          const dataTable =\n",
              "            await google.colab.kernel.invokeFunction('convertToInteractive',\n",
              "                                                     [key], {});\n",
              "          if (!dataTable) return;\n",
              "\n",
              "          const docLinkHtml = 'Like what you see? Visit the ' +\n",
              "            '<a target=\"_blank\" href=https://colab.research.google.com/notebooks/data_table.ipynb>data table notebook</a>'\n",
              "            + ' to learn more about interactive tables.';\n",
              "          element.innerHTML = '';\n",
              "          dataTable['output_type'] = 'display_data';\n",
              "          await google.colab.output.renderOutput(dataTable, element);\n",
              "          const docLink = document.createElement('div');\n",
              "          docLink.innerHTML = docLinkHtml;\n",
              "          element.appendChild(docLink);\n",
              "        }\n",
              "      </script>\n",
              "    </div>\n",
              "  </div>\n",
              "  "
            ]
          },
          "metadata": {},
          "execution_count": 7
        }
      ]
    },
    {
      "cell_type": "code",
      "execution_count": 8,
      "metadata": {
        "id": "384b4208",
        "outputId": "b9eb1a41-1cb7-4d02-dc06-f7e45f1d7bcd",
        "colab": {
          "base_uri": "https://localhost:8080/"
        }
      },
      "outputs": [
        {
          "output_type": "execute_result",
          "data": {
            "text/plain": [
              "time_stamp    datetime64[ns]\n",
              "user_id                int64\n",
              "visited                int64\n",
              "dtype: object"
            ]
          },
          "metadata": {},
          "execution_count": 8
        }
      ],
      "source": [
        "df.time_stamp=pd.to_datetime(df.time_stamp)\n",
        "df.dtypes"
      ]
    },
    {
      "cell_type": "code",
      "source": [
        "df['year']=df.time_stamp.dt.year\n",
        "df['month']=df.time_stamp.dt.month\n",
        "df['day']=df.time_stamp.dt.day"
      ],
      "metadata": {
        "id": "RL5wEMcSjZwS"
      },
      "execution_count": 9,
      "outputs": []
    },
    {
      "cell_type": "code",
      "source": [
        "df['week']=df.time_stamp.dt.week"
      ],
      "metadata": {
        "colab": {
          "base_uri": "https://localhost:8080/"
        },
        "id": "Y815Q7bijoaq",
        "outputId": "321850c0-ee70-4303-cf1d-16be38df7454"
      },
      "execution_count": 10,
      "outputs": [
        {
          "output_type": "stream",
          "name": "stderr",
          "text": [
            "<ipython-input-10-486eebb9c825>:1: FutureWarning: Series.dt.weekofyear and Series.dt.week have been deprecated.  Please use Series.dt.isocalendar().week instead.\n",
            "  df['week']=df.time_stamp.dt.week\n"
          ]
        }
      ]
    },
    {
      "cell_type": "code",
      "source": [
        "df.isnull().sum()\n",
        "df.dtypes"
      ],
      "metadata": {
        "colab": {
          "base_uri": "https://localhost:8080/"
        },
        "id": "PlsVL29cnp-0",
        "outputId": "18e38403-f987-4296-fde7-ef492b435521"
      },
      "execution_count": 11,
      "outputs": [
        {
          "output_type": "execute_result",
          "data": {
            "text/plain": [
              "time_stamp    datetime64[ns]\n",
              "user_id                int64\n",
              "visited                int64\n",
              "year                   int64\n",
              "month                  int64\n",
              "day                    int64\n",
              "week                   int64\n",
              "dtype: object"
            ]
          },
          "metadata": {},
          "execution_count": 11
        }
      ]
    },
    {
      "cell_type": "code",
      "source": [
        "df.head(10)"
      ],
      "metadata": {
        "colab": {
          "base_uri": "https://localhost:8080/",
          "height": 363
        },
        "id": "ehqx1w2wnuJj",
        "outputId": "bedbdc2c-ac62-42f6-9a16-b107fe6619c1"
      },
      "execution_count": 12,
      "outputs": [
        {
          "output_type": "execute_result",
          "data": {
            "text/plain": [
              "           time_stamp  user_id  visited  year  month  day  week\n",
              "0 2014-04-22 03:53:30        1        1  2014      4   22    17\n",
              "1 2013-11-15 03:45:04        2        1  2013     11   15    46\n",
              "2 2013-11-29 03:45:04        2        1  2013     11   29    48\n",
              "3 2013-12-09 03:45:04        2        1  2013     12    9    50\n",
              "4 2013-12-25 03:45:04        2        1  2013     12   25    52\n",
              "5 2013-12-31 03:45:04        2        1  2013     12   31     1\n",
              "6 2014-01-08 03:45:04        2        1  2014      1    8     2\n",
              "7 2014-02-03 03:45:04        2        1  2014      2    3     6\n",
              "8 2014-02-08 03:45:04        2        1  2014      2    8     6\n",
              "9 2014-02-09 03:45:04        2        1  2014      2    9     6"
            ],
            "text/html": [
              "\n",
              "  <div id=\"df-7374b483-474a-41bf-be45-998e7f0dd149\">\n",
              "    <div class=\"colab-df-container\">\n",
              "      <div>\n",
              "<style scoped>\n",
              "    .dataframe tbody tr th:only-of-type {\n",
              "        vertical-align: middle;\n",
              "    }\n",
              "\n",
              "    .dataframe tbody tr th {\n",
              "        vertical-align: top;\n",
              "    }\n",
              "\n",
              "    .dataframe thead th {\n",
              "        text-align: right;\n",
              "    }\n",
              "</style>\n",
              "<table border=\"1\" class=\"dataframe\">\n",
              "  <thead>\n",
              "    <tr style=\"text-align: right;\">\n",
              "      <th></th>\n",
              "      <th>time_stamp</th>\n",
              "      <th>user_id</th>\n",
              "      <th>visited</th>\n",
              "      <th>year</th>\n",
              "      <th>month</th>\n",
              "      <th>day</th>\n",
              "      <th>week</th>\n",
              "    </tr>\n",
              "  </thead>\n",
              "  <tbody>\n",
              "    <tr>\n",
              "      <th>0</th>\n",
              "      <td>2014-04-22 03:53:30</td>\n",
              "      <td>1</td>\n",
              "      <td>1</td>\n",
              "      <td>2014</td>\n",
              "      <td>4</td>\n",
              "      <td>22</td>\n",
              "      <td>17</td>\n",
              "    </tr>\n",
              "    <tr>\n",
              "      <th>1</th>\n",
              "      <td>2013-11-15 03:45:04</td>\n",
              "      <td>2</td>\n",
              "      <td>1</td>\n",
              "      <td>2013</td>\n",
              "      <td>11</td>\n",
              "      <td>15</td>\n",
              "      <td>46</td>\n",
              "    </tr>\n",
              "    <tr>\n",
              "      <th>2</th>\n",
              "      <td>2013-11-29 03:45:04</td>\n",
              "      <td>2</td>\n",
              "      <td>1</td>\n",
              "      <td>2013</td>\n",
              "      <td>11</td>\n",
              "      <td>29</td>\n",
              "      <td>48</td>\n",
              "    </tr>\n",
              "    <tr>\n",
              "      <th>3</th>\n",
              "      <td>2013-12-09 03:45:04</td>\n",
              "      <td>2</td>\n",
              "      <td>1</td>\n",
              "      <td>2013</td>\n",
              "      <td>12</td>\n",
              "      <td>9</td>\n",
              "      <td>50</td>\n",
              "    </tr>\n",
              "    <tr>\n",
              "      <th>4</th>\n",
              "      <td>2013-12-25 03:45:04</td>\n",
              "      <td>2</td>\n",
              "      <td>1</td>\n",
              "      <td>2013</td>\n",
              "      <td>12</td>\n",
              "      <td>25</td>\n",
              "      <td>52</td>\n",
              "    </tr>\n",
              "    <tr>\n",
              "      <th>5</th>\n",
              "      <td>2013-12-31 03:45:04</td>\n",
              "      <td>2</td>\n",
              "      <td>1</td>\n",
              "      <td>2013</td>\n",
              "      <td>12</td>\n",
              "      <td>31</td>\n",
              "      <td>1</td>\n",
              "    </tr>\n",
              "    <tr>\n",
              "      <th>6</th>\n",
              "      <td>2014-01-08 03:45:04</td>\n",
              "      <td>2</td>\n",
              "      <td>1</td>\n",
              "      <td>2014</td>\n",
              "      <td>1</td>\n",
              "      <td>8</td>\n",
              "      <td>2</td>\n",
              "    </tr>\n",
              "    <tr>\n",
              "      <th>7</th>\n",
              "      <td>2014-02-03 03:45:04</td>\n",
              "      <td>2</td>\n",
              "      <td>1</td>\n",
              "      <td>2014</td>\n",
              "      <td>2</td>\n",
              "      <td>3</td>\n",
              "      <td>6</td>\n",
              "    </tr>\n",
              "    <tr>\n",
              "      <th>8</th>\n",
              "      <td>2014-02-08 03:45:04</td>\n",
              "      <td>2</td>\n",
              "      <td>1</td>\n",
              "      <td>2014</td>\n",
              "      <td>2</td>\n",
              "      <td>8</td>\n",
              "      <td>6</td>\n",
              "    </tr>\n",
              "    <tr>\n",
              "      <th>9</th>\n",
              "      <td>2014-02-09 03:45:04</td>\n",
              "      <td>2</td>\n",
              "      <td>1</td>\n",
              "      <td>2014</td>\n",
              "      <td>2</td>\n",
              "      <td>9</td>\n",
              "      <td>6</td>\n",
              "    </tr>\n",
              "  </tbody>\n",
              "</table>\n",
              "</div>\n",
              "      <button class=\"colab-df-convert\" onclick=\"convertToInteractive('df-7374b483-474a-41bf-be45-998e7f0dd149')\"\n",
              "              title=\"Convert this dataframe to an interactive table.\"\n",
              "              style=\"display:none;\">\n",
              "        \n",
              "  <svg xmlns=\"http://www.w3.org/2000/svg\" height=\"24px\"viewBox=\"0 0 24 24\"\n",
              "       width=\"24px\">\n",
              "    <path d=\"M0 0h24v24H0V0z\" fill=\"none\"/>\n",
              "    <path d=\"M18.56 5.44l.94 2.06.94-2.06 2.06-.94-2.06-.94-.94-2.06-.94 2.06-2.06.94zm-11 1L8.5 8.5l.94-2.06 2.06-.94-2.06-.94L8.5 2.5l-.94 2.06-2.06.94zm10 10l.94 2.06.94-2.06 2.06-.94-2.06-.94-.94-2.06-.94 2.06-2.06.94z\"/><path d=\"M17.41 7.96l-1.37-1.37c-.4-.4-.92-.59-1.43-.59-.52 0-1.04.2-1.43.59L10.3 9.45l-7.72 7.72c-.78.78-.78 2.05 0 2.83L4 21.41c.39.39.9.59 1.41.59.51 0 1.02-.2 1.41-.59l7.78-7.78 2.81-2.81c.8-.78.8-2.07 0-2.86zM5.41 20L4 18.59l7.72-7.72 1.47 1.35L5.41 20z\"/>\n",
              "  </svg>\n",
              "      </button>\n",
              "      \n",
              "  <style>\n",
              "    .colab-df-container {\n",
              "      display:flex;\n",
              "      flex-wrap:wrap;\n",
              "      gap: 12px;\n",
              "    }\n",
              "\n",
              "    .colab-df-convert {\n",
              "      background-color: #E8F0FE;\n",
              "      border: none;\n",
              "      border-radius: 50%;\n",
              "      cursor: pointer;\n",
              "      display: none;\n",
              "      fill: #1967D2;\n",
              "      height: 32px;\n",
              "      padding: 0 0 0 0;\n",
              "      width: 32px;\n",
              "    }\n",
              "\n",
              "    .colab-df-convert:hover {\n",
              "      background-color: #E2EBFA;\n",
              "      box-shadow: 0px 1px 2px rgba(60, 64, 67, 0.3), 0px 1px 3px 1px rgba(60, 64, 67, 0.15);\n",
              "      fill: #174EA6;\n",
              "    }\n",
              "\n",
              "    [theme=dark] .colab-df-convert {\n",
              "      background-color: #3B4455;\n",
              "      fill: #D2E3FC;\n",
              "    }\n",
              "\n",
              "    [theme=dark] .colab-df-convert:hover {\n",
              "      background-color: #434B5C;\n",
              "      box-shadow: 0px 1px 3px 1px rgba(0, 0, 0, 0.15);\n",
              "      filter: drop-shadow(0px 1px 2px rgba(0, 0, 0, 0.3));\n",
              "      fill: #FFFFFF;\n",
              "    }\n",
              "  </style>\n",
              "\n",
              "      <script>\n",
              "        const buttonEl =\n",
              "          document.querySelector('#df-7374b483-474a-41bf-be45-998e7f0dd149 button.colab-df-convert');\n",
              "        buttonEl.style.display =\n",
              "          google.colab.kernel.accessAllowed ? 'block' : 'none';\n",
              "\n",
              "        async function convertToInteractive(key) {\n",
              "          const element = document.querySelector('#df-7374b483-474a-41bf-be45-998e7f0dd149');\n",
              "          const dataTable =\n",
              "            await google.colab.kernel.invokeFunction('convertToInteractive',\n",
              "                                                     [key], {});\n",
              "          if (!dataTable) return;\n",
              "\n",
              "          const docLinkHtml = 'Like what you see? Visit the ' +\n",
              "            '<a target=\"_blank\" href=https://colab.research.google.com/notebooks/data_table.ipynb>data table notebook</a>'\n",
              "            + ' to learn more about interactive tables.';\n",
              "          element.innerHTML = '';\n",
              "          dataTable['output_type'] = 'display_data';\n",
              "          await google.colab.output.renderOutput(dataTable, element);\n",
              "          const docLink = document.createElement('div');\n",
              "          docLink.innerHTML = docLinkHtml;\n",
              "          element.appendChild(docLink);\n",
              "        }\n",
              "      </script>\n",
              "    </div>\n",
              "  </div>\n",
              "  "
            ]
          },
          "metadata": {},
          "execution_count": 12
        }
      ]
    },
    {
      "cell_type": "code",
      "source": [
        "df=df.drop_duplicates()\n"
      ],
      "metadata": {
        "id": "WenkoDroqzaU"
      },
      "execution_count": 13,
      "outputs": []
    },
    {
      "cell_type": "code",
      "source": [
        "users=df.user_id.unique().tolist()\n"
      ],
      "metadata": {
        "id": "ZyWriQfbr41K"
      },
      "execution_count": 14,
      "outputs": []
    },
    {
      "cell_type": "code",
      "source": [
        "usernum=df.loc[0,'user_id']\n",
        "user_adopted=[]\n",
        "for i in range(df.shape[0]):\n",
        "  if i==(df.shape[0]-1):\n",
        "    break\n",
        "  elif df.loc[i,'user_id']==usernum and df.loc[i,'user_id'] not in user_adopted and (abs(df.loc[i,'time_stamp']-df.loc[i+1,'time_stamp']).days<=7 and abs(df.loc[i,'time_stamp']-df.loc[i+1,'time_stamp']).days>=1 and (df.loc[i,'user_id']==df.loc[i+1,'user_id'])) and (abs(df.loc[i,'time_stamp']-df.loc[i+2,'time_stamp']).days<=7 and abs(df.loc[i,'time_stamp']-df.loc[i+2,'time_stamp']).days>=1 and (df.loc[i,'user_id']==df.loc[i+2,'user_id'])):\n",
        "    user_adopted.append(df.loc[i,'user_id'])\n",
        "  else:\n",
        "    usernum=df.loc[i,'user_id']"
      ],
      "metadata": {
        "id": "xMmEiarKsDJG"
      },
      "execution_count": 15,
      "outputs": []
    },
    {
      "cell_type": "code",
      "source": [
        "len(user_adopted)"
      ],
      "metadata": {
        "colab": {
          "base_uri": "https://localhost:8080/"
        },
        "id": "z9lPTkhk0re9",
        "outputId": "078df830-e691-4a02-f2e6-a83b4cf73aae"
      },
      "execution_count": 16,
      "outputs": [
        {
          "output_type": "execute_result",
          "data": {
            "text/plain": [
              "1607"
            ]
          },
          "metadata": {},
          "execution_count": 16
        }
      ]
    },
    {
      "cell_type": "code",
      "source": [
        "user_adopted"
      ],
      "metadata": {
        "colab": {
          "base_uri": "https://localhost:8080/"
        },
        "id": "5HU487C51sU3",
        "outputId": "48874e8e-217a-41af-a1e7-642163237318"
      },
      "execution_count": 17,
      "outputs": [
        {
          "output_type": "execute_result",
          "data": {
            "text/plain": [
              "[2,\n",
              " 10,\n",
              " 33,\n",
              " 42,\n",
              " 43,\n",
              " 50,\n",
              " 53,\n",
              " 60,\n",
              " 63,\n",
              " 69,\n",
              " 74,\n",
              " 80,\n",
              " 81,\n",
              " 82,\n",
              " 87,\n",
              " 133,\n",
              " 135,\n",
              " 141,\n",
              " 146,\n",
              " 153,\n",
              " 160,\n",
              " 165,\n",
              " 168,\n",
              " 172,\n",
              " 174,\n",
              " 185,\n",
              " 188,\n",
              " 197,\n",
              " 200,\n",
              " 202,\n",
              " 203,\n",
              " 209,\n",
              " 214,\n",
              " 230,\n",
              " 245,\n",
              " 247,\n",
              " 263,\n",
              " 265,\n",
              " 275,\n",
              " 280,\n",
              " 283,\n",
              " 297,\n",
              " 298,\n",
              " 305,\n",
              " 310,\n",
              " 311,\n",
              " 321,\n",
              " 322,\n",
              " 341,\n",
              " 345,\n",
              " 347,\n",
              " 351,\n",
              " 362,\n",
              " 363,\n",
              " 370,\n",
              " 383,\n",
              " 397,\n",
              " 401,\n",
              " 418,\n",
              " 430,\n",
              " 445,\n",
              " 450,\n",
              " 460,\n",
              " 462,\n",
              " 469,\n",
              " 471,\n",
              " 472,\n",
              " 479,\n",
              " 483,\n",
              " 492,\n",
              " 494,\n",
              " 497,\n",
              " 502,\n",
              " 506,\n",
              " 509,\n",
              " 510,\n",
              " 512,\n",
              " 518,\n",
              " 520,\n",
              " 522,\n",
              " 529,\n",
              " 535,\n",
              " 540,\n",
              " 547,\n",
              " 553,\n",
              " 564,\n",
              " 572,\n",
              " 589,\n",
              " 601,\n",
              " 603,\n",
              " 605,\n",
              " 618,\n",
              " 627,\n",
              " 628,\n",
              " 632,\n",
              " 634,\n",
              " 639,\n",
              " 669,\n",
              " 679,\n",
              " 680,\n",
              " 717,\n",
              " 724,\n",
              " 725,\n",
              " 728,\n",
              " 754,\n",
              " 772,\n",
              " 783,\n",
              " 786,\n",
              " 804,\n",
              " 828,\n",
              " 845,\n",
              " 851,\n",
              " 869,\n",
              " 874,\n",
              " 882,\n",
              " 885,\n",
              " 901,\n",
              " 906,\n",
              " 907,\n",
              " 912,\n",
              " 928,\n",
              " 932,\n",
              " 934,\n",
              " 937,\n",
              " 943,\n",
              " 953,\n",
              " 980,\n",
              " 985,\n",
              " 1007,\n",
              " 1009,\n",
              " 1013,\n",
              " 1017,\n",
              " 1018,\n",
              " 1026,\n",
              " 1027,\n",
              " 1035,\n",
              " 1039,\n",
              " 1055,\n",
              " 1061,\n",
              " 1072,\n",
              " 1089,\n",
              " 1093,\n",
              " 1094,\n",
              " 1099,\n",
              " 1106,\n",
              " 1107,\n",
              " 1119,\n",
              " 1123,\n",
              " 1124,\n",
              " 1128,\n",
              " 1129,\n",
              " 1136,\n",
              " 1145,\n",
              " 1150,\n",
              " 1151,\n",
              " 1155,\n",
              " 1156,\n",
              " 1163,\n",
              " 1173,\n",
              " 1186,\n",
              " 1196,\n",
              " 1202,\n",
              " 1212,\n",
              " 1214,\n",
              " 1222,\n",
              " 1233,\n",
              " 1235,\n",
              " 1238,\n",
              " 1242,\n",
              " 1245,\n",
              " 1250,\n",
              " 1274,\n",
              " 1280,\n",
              " 1290,\n",
              " 1303,\n",
              " 1318,\n",
              " 1319,\n",
              " 1320,\n",
              " 1327,\n",
              " 1339,\n",
              " 1343,\n",
              " 1345,\n",
              " 1350,\n",
              " 1357,\n",
              " 1361,\n",
              " 1368,\n",
              " 1379,\n",
              " 1396,\n",
              " 1407,\n",
              " 1410,\n",
              " 1411,\n",
              " 1421,\n",
              " 1434,\n",
              " 1464,\n",
              " 1472,\n",
              " 1476,\n",
              " 1479,\n",
              " 1480,\n",
              " 1481,\n",
              " 1485,\n",
              " 1506,\n",
              " 1507,\n",
              " 1508,\n",
              " 1525,\n",
              " 1546,\n",
              " 1555,\n",
              " 1561,\n",
              " 1576,\n",
              " 1581,\n",
              " 1598,\n",
              " 1617,\n",
              " 1624,\n",
              " 1641,\n",
              " 1663,\n",
              " 1665,\n",
              " 1666,\n",
              " 1671,\n",
              " 1672,\n",
              " 1681,\n",
              " 1690,\n",
              " 1693,\n",
              " 1694,\n",
              " 1709,\n",
              " 1714,\n",
              " 1716,\n",
              " 1717,\n",
              " 1722,\n",
              " 1726,\n",
              " 1730,\n",
              " 1740,\n",
              " 1754,\n",
              " 1758,\n",
              " 1759,\n",
              " 1769,\n",
              " 1770,\n",
              " 1781,\n",
              " 1783,\n",
              " 1786,\n",
              " 1811,\n",
              " 1816,\n",
              " 1820,\n",
              " 1821,\n",
              " 1822,\n",
              " 1825,\n",
              " 1836,\n",
              " 1845,\n",
              " 1865,\n",
              " 1872,\n",
              " 1879,\n",
              " 1885,\n",
              " 1907,\n",
              " 1930,\n",
              " 1941,\n",
              " 1944,\n",
              " 1954,\n",
              " 1974,\n",
              " 2002,\n",
              " 2011,\n",
              " 2013,\n",
              " 2025,\n",
              " 2033,\n",
              " 2037,\n",
              " 2038,\n",
              " 2042,\n",
              " 2043,\n",
              " 2049,\n",
              " 2056,\n",
              " 2073,\n",
              " 2074,\n",
              " 2078,\n",
              " 2080,\n",
              " 2103,\n",
              " 2112,\n",
              " 2113,\n",
              " 2124,\n",
              " 2129,\n",
              " 2159,\n",
              " 2160,\n",
              " 2171,\n",
              " 2176,\n",
              " 2193,\n",
              " 2199,\n",
              " 2201,\n",
              " 2239,\n",
              " 2241,\n",
              " 2246,\n",
              " 2253,\n",
              " 2270,\n",
              " 2271,\n",
              " 2278,\n",
              " 2282,\n",
              " 2286,\n",
              " 2289,\n",
              " 2290,\n",
              " 2297,\n",
              " 2300,\n",
              " 2307,\n",
              " 2312,\n",
              " 2316,\n",
              " 2322,\n",
              " 2324,\n",
              " 2333,\n",
              " 2337,\n",
              " 2339,\n",
              " 2357,\n",
              " 2361,\n",
              " 2371,\n",
              " 2390,\n",
              " 2399,\n",
              " 2400,\n",
              " 2406,\n",
              " 2425,\n",
              " 2435,\n",
              " 2438,\n",
              " 2447,\n",
              " 2474,\n",
              " 2481,\n",
              " 2490,\n",
              " 2502,\n",
              " 2519,\n",
              " 2539,\n",
              " 2544,\n",
              " 2548,\n",
              " 2557,\n",
              " 2566,\n",
              " 2568,\n",
              " 2569,\n",
              " 2570,\n",
              " 2571,\n",
              " 2583,\n",
              " 2587,\n",
              " 2590,\n",
              " 2604,\n",
              " 2610,\n",
              " 2615,\n",
              " 2618,\n",
              " 2620,\n",
              " 2622,\n",
              " 2636,\n",
              " 2641,\n",
              " 2645,\n",
              " 2647,\n",
              " 2658,\n",
              " 2672,\n",
              " 2681,\n",
              " 2713,\n",
              " 2723,\n",
              " 2724,\n",
              " 2727,\n",
              " 2731,\n",
              " 2739,\n",
              " 2744,\n",
              " 2750,\n",
              " 2762,\n",
              " 2771,\n",
              " 2787,\n",
              " 2798,\n",
              " 2809,\n",
              " 2832,\n",
              " 2836,\n",
              " 2841,\n",
              " 2843,\n",
              " 2851,\n",
              " 2859,\n",
              " 2866,\n",
              " 2870,\n",
              " 2881,\n",
              " 2886,\n",
              " 2887,\n",
              " 2889,\n",
              " 2891,\n",
              " 2895,\n",
              " 2915,\n",
              " 2918,\n",
              " 2921,\n",
              " 2931,\n",
              " 2939,\n",
              " 2945,\n",
              " 2946,\n",
              " 2948,\n",
              " 2952,\n",
              " 2969,\n",
              " 2974,\n",
              " 2979,\n",
              " 2993,\n",
              " 3014,\n",
              " 3017,\n",
              " 3018,\n",
              " 3025,\n",
              " 3026,\n",
              " 3028,\n",
              " 3032,\n",
              " 3036,\n",
              " 3039,\n",
              " 3046,\n",
              " 3052,\n",
              " 3053,\n",
              " 3063,\n",
              " 3066,\n",
              " 3067,\n",
              " 3071,\n",
              " 3076,\n",
              " 3080,\n",
              " 3081,\n",
              " 3087,\n",
              " 3093,\n",
              " 3100,\n",
              " 3112,\n",
              " 3113,\n",
              " 3125,\n",
              " 3137,\n",
              " 3139,\n",
              " 3145,\n",
              " 3160,\n",
              " 3163,\n",
              " 3175,\n",
              " 3180,\n",
              " 3185,\n",
              " 3193,\n",
              " 3194,\n",
              " 3204,\n",
              " 3205,\n",
              " 3207,\n",
              " 3217,\n",
              " 3226,\n",
              " 3232,\n",
              " 3235,\n",
              " 3238,\n",
              " 3239,\n",
              " 3240,\n",
              " 3244,\n",
              " 3269,\n",
              " 3273,\n",
              " 3280,\n",
              " 3294,\n",
              " 3311,\n",
              " 3317,\n",
              " 3324,\n",
              " 3332,\n",
              " 3338,\n",
              " 3339,\n",
              " 3347,\n",
              " 3353,\n",
              " 3360,\n",
              " 3370,\n",
              " 3378,\n",
              " 3381,\n",
              " 3387,\n",
              " 3389,\n",
              " 3390,\n",
              " 3397,\n",
              " 3405,\n",
              " 3409,\n",
              " 3411,\n",
              " 3426,\n",
              " 3428,\n",
              " 3436,\n",
              " 3451,\n",
              " 3463,\n",
              " 3481,\n",
              " 3484,\n",
              " 3493,\n",
              " 3502,\n",
              " 3517,\n",
              " 3522,\n",
              " 3525,\n",
              " 3531,\n",
              " 3541,\n",
              " 3546,\n",
              " 3556,\n",
              " 3560,\n",
              " 3561,\n",
              " 3562,\n",
              " 3567,\n",
              " 3574,\n",
              " 3577,\n",
              " 3578,\n",
              " 3592,\n",
              " 3593,\n",
              " 3597,\n",
              " 3598,\n",
              " 3601,\n",
              " 3609,\n",
              " 3612,\n",
              " 3617,\n",
              " 3623,\n",
              " 3641,\n",
              " 3642,\n",
              " 3644,\n",
              " 3652,\n",
              " 3671,\n",
              " 3673,\n",
              " 3675,\n",
              " 3695,\n",
              " 3705,\n",
              " 3717,\n",
              " 3718,\n",
              " 3749,\n",
              " 3752,\n",
              " 3757,\n",
              " 3758,\n",
              " 3762,\n",
              " 3765,\n",
              " 3772,\n",
              " 3774,\n",
              " 3802,\n",
              " 3804,\n",
              " 3812,\n",
              " 3819,\n",
              " 3824,\n",
              " 3832,\n",
              " 3843,\n",
              " 3852,\n",
              " 3859,\n",
              " 3862,\n",
              " 3863,\n",
              " 3866,\n",
              " 3867,\n",
              " 3881,\n",
              " 3882,\n",
              " 3906,\n",
              " 3915,\n",
              " 3946,\n",
              " 3956,\n",
              " 3957,\n",
              " 3960,\n",
              " 3970,\n",
              " 4007,\n",
              " 4009,\n",
              " 4017,\n",
              " 4018,\n",
              " 4019,\n",
              " 4022,\n",
              " 4029,\n",
              " 4031,\n",
              " 4041,\n",
              " 4043,\n",
              " 4045,\n",
              " 4052,\n",
              " 4065,\n",
              " 4067,\n",
              " 4074,\n",
              " 4086,\n",
              " 4090,\n",
              " 4105,\n",
              " 4106,\n",
              " 4134,\n",
              " 4140,\n",
              " 4141,\n",
              " 4143,\n",
              " 4145,\n",
              " 4156,\n",
              " 4158,\n",
              " 4167,\n",
              " 4171,\n",
              " 4181,\n",
              " 4182,\n",
              " 4184,\n",
              " 4186,\n",
              " 4203,\n",
              " 4206,\n",
              " 4208,\n",
              " 4209,\n",
              " 4216,\n",
              " 4217,\n",
              " 4218,\n",
              " 4223,\n",
              " 4234,\n",
              " 4243,\n",
              " 4244,\n",
              " 4248,\n",
              " 4255,\n",
              " 4258,\n",
              " 4263,\n",
              " 4268,\n",
              " 4269,\n",
              " 4278,\n",
              " 4282,\n",
              " 4295,\n",
              " 4296,\n",
              " 4317,\n",
              " 4330,\n",
              " 4335,\n",
              " 4349,\n",
              " 4350,\n",
              " 4353,\n",
              " 4354,\n",
              " 4371,\n",
              " 4384,\n",
              " 4388,\n",
              " 4402,\n",
              " 4403,\n",
              " 4404,\n",
              " 4421,\n",
              " 4425,\n",
              " 4428,\n",
              " 4433,\n",
              " 4444,\n",
              " 4446,\n",
              " 4472,\n",
              " 4481,\n",
              " 4485,\n",
              " 4489,\n",
              " 4494,\n",
              " 4497,\n",
              " 4511,\n",
              " 4513,\n",
              " 4519,\n",
              " 4558,\n",
              " 4560,\n",
              " 4561,\n",
              " 4562,\n",
              " 4564,\n",
              " 4565,\n",
              " 4569,\n",
              " 4571,\n",
              " 4576,\n",
              " 4580,\n",
              " 4582,\n",
              " 4589,\n",
              " 4600,\n",
              " 4609,\n",
              " 4611,\n",
              " 4612,\n",
              " 4616,\n",
              " 4618,\n",
              " 4619,\n",
              " 4625,\n",
              " 4680,\n",
              " 4685,\n",
              " 4709,\n",
              " 4713,\n",
              " 4715,\n",
              " 4720,\n",
              " 4730,\n",
              " 4742,\n",
              " 4745,\n",
              " 4753,\n",
              " 4760,\n",
              " 4778,\n",
              " 4780,\n",
              " 4784,\n",
              " 4785,\n",
              " 4793,\n",
              " 4803,\n",
              " 4805,\n",
              " 4812,\n",
              " 4826,\n",
              " 4832,\n",
              " 4835,\n",
              " 4837,\n",
              " 4839,\n",
              " 4844,\n",
              " 4854,\n",
              " 4869,\n",
              " 4870,\n",
              " 4876,\n",
              " 4884,\n",
              " 4886,\n",
              " 4902,\n",
              " 4915,\n",
              " 4921,\n",
              " 4924,\n",
              " 4934,\n",
              " 4935,\n",
              " 4943,\n",
              " 4950,\n",
              " 4954,\n",
              " 4961,\n",
              " 4965,\n",
              " 4966,\n",
              " 4969,\n",
              " 4974,\n",
              " 4992,\n",
              " 5013,\n",
              " 5015,\n",
              " 5027,\n",
              " 5057,\n",
              " 5063,\n",
              " 5067,\n",
              " 5069,\n",
              " 5071,\n",
              " 5073,\n",
              " 5100,\n",
              " 5101,\n",
              " 5103,\n",
              " 5115,\n",
              " 5127,\n",
              " 5151,\n",
              " 5153,\n",
              " 5156,\n",
              " 5157,\n",
              " 5160,\n",
              " 5167,\n",
              " 5173,\n",
              " 5180,\n",
              " 5200,\n",
              " 5210,\n",
              " 5211,\n",
              " 5215,\n",
              " 5225,\n",
              " 5240,\n",
              " 5243,\n",
              " 5259,\n",
              " 5281,\n",
              " 5297,\n",
              " 5301,\n",
              " 5307,\n",
              " 5309,\n",
              " 5329,\n",
              " 5350,\n",
              " 5351,\n",
              " 5360,\n",
              " 5362,\n",
              " 5364,\n",
              " 5365,\n",
              " 5369,\n",
              " 5378,\n",
              " 5385,\n",
              " 5386,\n",
              " 5407,\n",
              " 5412,\n",
              " 5415,\n",
              " 5426,\n",
              " 5428,\n",
              " 5432,\n",
              " 5441,\n",
              " 5445,\n",
              " 5456,\n",
              " 5463,\n",
              " 5479,\n",
              " 5483,\n",
              " 5494,\n",
              " 5507,\n",
              " 5514,\n",
              " 5516,\n",
              " 5527,\n",
              " 5532,\n",
              " 5547,\n",
              " 5551,\n",
              " 5552,\n",
              " 5557,\n",
              " 5560,\n",
              " 5571,\n",
              " 5579,\n",
              " 5586,\n",
              " 5600,\n",
              " 5607,\n",
              " 5609,\n",
              " 5620,\n",
              " 5623,\n",
              " 5638,\n",
              " 5645,\n",
              " 5655,\n",
              " 5666,\n",
              " 5677,\n",
              " 5681,\n",
              " 5682,\n",
              " 5685,\n",
              " 5704,\n",
              " 5705,\n",
              " 5714,\n",
              " 5718,\n",
              " 5721,\n",
              " 5722,\n",
              " 5723,\n",
              " 5725,\n",
              " 5726,\n",
              " 5741,\n",
              " 5743,\n",
              " 5756,\n",
              " 5777,\n",
              " 5806,\n",
              " 5828,\n",
              " 5830,\n",
              " 5832,\n",
              " 5840,\n",
              " 5847,\n",
              " 5850,\n",
              " 5853,\n",
              " 5861,\n",
              " 5866,\n",
              " 5892,\n",
              " 5900,\n",
              " 5905,\n",
              " 5915,\n",
              " 5918,\n",
              " 5927,\n",
              " 5939,\n",
              " 5944,\n",
              " 5950,\n",
              " 5960,\n",
              " 5965,\n",
              " 5977,\n",
              " 5993,\n",
              " 6016,\n",
              " 6033,\n",
              " 6050,\n",
              " 6061,\n",
              " 6064,\n",
              " 6070,\n",
              " 6096,\n",
              " 6100,\n",
              " 6103,\n",
              " 6108,\n",
              " 6114,\n",
              " 6126,\n",
              " 6134,\n",
              " 6135,\n",
              " 6136,\n",
              " 6148,\n",
              " 6152,\n",
              " 6170,\n",
              " 6171,\n",
              " 6180,\n",
              " 6184,\n",
              " 6187,\n",
              " 6198,\n",
              " 6204,\n",
              " 6205,\n",
              " 6210,\n",
              " 6217,\n",
              " 6232,\n",
              " 6236,\n",
              " 6238,\n",
              " 6239,\n",
              " 6242,\n",
              " 6246,\n",
              " 6258,\n",
              " 6266,\n",
              " 6270,\n",
              " 6279,\n",
              " 6281,\n",
              " 6282,\n",
              " 6284,\n",
              " 6285,\n",
              " 6293,\n",
              " 6296,\n",
              " 6302,\n",
              " 6305,\n",
              " 6312,\n",
              " 6321,\n",
              " 6322,\n",
              " 6342,\n",
              " 6349,\n",
              " 6357,\n",
              " 6367,\n",
              " 6370,\n",
              " 6388,\n",
              " 6393,\n",
              " 6401,\n",
              " 6405,\n",
              " 6416,\n",
              " 6419,\n",
              " 6427,\n",
              " 6438,\n",
              " 6462,\n",
              " 6463,\n",
              " 6464,\n",
              " 6470,\n",
              " 6482,\n",
              " 6504,\n",
              " 6506,\n",
              " 6517,\n",
              " 6532,\n",
              " 6590,\n",
              " 6609,\n",
              " 6617,\n",
              " 6623,\n",
              " 6627,\n",
              " 6633,\n",
              " 6637,\n",
              " 6638,\n",
              " 6640,\n",
              " 6654,\n",
              " 6662,\n",
              " 6688,\n",
              " 6729,\n",
              " 6731,\n",
              " 6733,\n",
              " 6734,\n",
              " 6741,\n",
              " 6742,\n",
              " 6751,\n",
              " 6757,\n",
              " 6759,\n",
              " 6771,\n",
              " 6782,\n",
              " 6786,\n",
              " 6810,\n",
              " 6827,\n",
              " 6832,\n",
              " 6835,\n",
              " 6851,\n",
              " 6856,\n",
              " 6862,\n",
              " 6865,\n",
              " 6866,\n",
              " 6870,\n",
              " 6893,\n",
              " 6894,\n",
              " 6895,\n",
              " 6909,\n",
              " 6913,\n",
              " 6914,\n",
              " 6922,\n",
              " 6924,\n",
              " 6938,\n",
              " 6956,\n",
              " 6963,\n",
              " 6965,\n",
              " 6966,\n",
              " 6971,\n",
              " 6978,\n",
              " 6982,\n",
              " 6988,\n",
              " 6992,\n",
              " 6993,\n",
              " 6998,\n",
              " 7004,\n",
              " 7015,\n",
              " 7019,\n",
              " 7023,\n",
              " 7029,\n",
              " 7071,\n",
              " 7074,\n",
              " 7096,\n",
              " 7097,\n",
              " 7101,\n",
              " 7104,\n",
              " 7107,\n",
              " 7111,\n",
              " 7114,\n",
              " 7120,\n",
              " 7131,\n",
              " 7153,\n",
              " 7156,\n",
              " 7172,\n",
              " 7173,\n",
              " 7192,\n",
              " 7194,\n",
              " 7198,\n",
              " 7205,\n",
              " 7209,\n",
              " 7210,\n",
              " 7215,\n",
              " 7234,\n",
              " 7242,\n",
              " 7248,\n",
              " 7257,\n",
              " 7283,\n",
              " 7301,\n",
              " 7323,\n",
              " 7327,\n",
              " 7351,\n",
              " 7362,\n",
              " 7375,\n",
              " 7378,\n",
              " 7380,\n",
              " 7386,\n",
              " 7398,\n",
              " 7399,\n",
              " 7401,\n",
              " 7403,\n",
              " 7405,\n",
              " 7409,\n",
              " 7411,\n",
              " 7431,\n",
              " 7436,\n",
              " 7441,\n",
              " 7443,\n",
              " 7449,\n",
              " 7450,\n",
              " 7475,\n",
              " 7493,\n",
              " 7511,\n",
              " 7518,\n",
              " 7529,\n",
              " 7536,\n",
              " 7538,\n",
              " 7544,\n",
              " 7555,\n",
              " 7556,\n",
              " 7572,\n",
              " 7587,\n",
              " 7590,\n",
              " 7598,\n",
              " 7600,\n",
              " 7608,\n",
              " 7613,\n",
              " 7618,\n",
              " 7624,\n",
              " 7641,\n",
              " 7644,\n",
              " 7654,\n",
              " 7655,\n",
              " 7670,\n",
              " 7678,\n",
              " 7682,\n",
              " 7683,\n",
              " ...]"
            ]
          },
          "metadata": {},
          "execution_count": 17
        }
      ]
    },
    {
      "cell_type": "code",
      "source": [
        "df.groupby('year')['visited'].sum().plot(kind='bar')\n",
        "df.groupby('year')['visited'].sum()"
      ],
      "metadata": {
        "colab": {
          "base_uri": "https://localhost:8080/",
          "height": 382
        },
        "id": "DJUaZHRc1wl8",
        "outputId": "cdbb5872-9b9b-4d7e-cf0c-6efacc6628eb"
      },
      "execution_count": 18,
      "outputs": [
        {
          "output_type": "execute_result",
          "data": {
            "text/plain": [
              "year\n",
              "2012     11855\n",
              "2013    105725\n",
              "2014     90337\n",
              "Name: visited, dtype: int64"
            ]
          },
          "metadata": {},
          "execution_count": 18
        },
        {
          "output_type": "display_data",
          "data": {
            "text/plain": [
              "<Figure size 432x288 with 1 Axes>"
            ],
            "image/png": "[encoded data removed]"
          },
          "metadata": {
            "needs_background": "light"
          }
        }
      ]
    },
    {
      "cell_type": "code",
      "source": [
        "# in the year 2013 there were max number if users visted the product.\n"
      ],
      "metadata": {
        "id": "9-7-Nq3t56Gl"
      },
      "execution_count": 19,
      "outputs": []
    },
    {
      "cell_type": "code",
      "execution_count": 20,
      "metadata": {
        "id": "017eb5f8"
      },
      "outputs": [],
      "source": [
        "df1=pd.read_csv('https://raw.githubusercontent.com/SAGARIKA-SHAH/takehome_user_engagement./main/takehome_users.csv', encoding='latin-1')"
      ]
    },
    {
      "cell_type": "code",
      "source": [
        "df1.shape"
      ],
      "metadata": {
        "colab": {
          "base_uri": "https://localhost:8080/"
        },
        "id": "H6fElGfL8qT4",
        "outputId": "8a221cc0-4cd2-4da0-93d8-f1c9fd4fdcff"
      },
      "execution_count": 21,
      "outputs": [
        {
          "output_type": "execute_result",
          "data": {
            "text/plain": [
              "(12000, 10)"
            ]
          },
          "metadata": {},
          "execution_count": 21
        }
      ]
    },
    {
      "cell_type": "code",
      "source": [
        "df1=df1.drop_duplicates()"
      ],
      "metadata": {
        "id": "IFls8Ln98tST"
      },
      "execution_count": 22,
      "outputs": []
    },
    {
      "cell_type": "code",
      "source": [
        "df1.object_id.value_counts()"
      ],
      "metadata": {
        "colab": {
          "base_uri": "https://localhost:8080/"
        },
        "id": "QjlFYYSw8xJU",
        "outputId": "e7683fdb-a6dd-464c-eb5c-70cfadbe3680"
      },
      "execution_count": 23,
      "outputs": [
        {
          "output_type": "execute_result",
          "data": {
            "text/plain": [
              "1        1\n",
              "8004     1\n",
              "7995     1\n",
              "7996     1\n",
              "7997     1\n",
              "        ..\n",
              "4003     1\n",
              "4004     1\n",
              "4005     1\n",
              "4006     1\n",
              "12000    1\n",
              "Name: object_id, Length: 12000, dtype: int64"
            ]
          },
          "metadata": {},
          "execution_count": 23
        }
      ]
    },
    {
      "cell_type": "code",
      "source": [
        "df1.head(10)"
      ],
      "metadata": {
        "colab": {
          "base_uri": "https://localhost:8080/",
          "height": 600
        },
        "id": "uI_DsXvlrXwD",
        "outputId": "2bc2d874-a534-44df-c8da-4e488bb7f16d"
      },
      "execution_count": 24,
      "outputs": [
        {
          "output_type": "execute_result",
          "data": {
            "text/plain": [
              "   object_id        creation_time               name  \\\n",
              "0          1  2014-04-22 03:53:30     Clausen August   \n",
              "1          2  2013-11-15 03:45:04      Poole Matthew   \n",
              "2          3  2013-03-19 23:14:52  Bottrill Mitchell   \n",
              "3          4  2013-05-21 08:09:28    Clausen Nicklas   \n",
              "4          5  2013-01-17 10:14:20          Raw Grace   \n",
              "5          6  2013-12-17 03:37:06      Cunha Eduardo   \n",
              "6          7  2012-12-16 13:24:32       Sewell Tyler   \n",
              "7          8  2013-07-31 05:34:02  Hamilton Danielle   \n",
              "8          9  2013-11-05 04:04:24         Amsel Paul   \n",
              "9         10  2013-01-16 22:08:03       Santos Carla   \n",
              "\n",
              "                           email    creation_source  \\\n",
              "0       AugustCClausen@yahoo.com       GUEST_INVITE   \n",
              "1         MatthewPoole@gustr.com         ORG_INVITE   \n",
              "2     MitchellBottrill@gustr.com         ORG_INVITE   \n",
              "3      NicklasSClausen@yahoo.com       GUEST_INVITE   \n",
              "4             GraceRaw@yahoo.com       GUEST_INVITE   \n",
              "5  EduardoPereiraCunha@yahoo.com       GUEST_INVITE   \n",
              "6     TylerSewell@jourrapide.com             SIGNUP   \n",
              "7     DanielleHamilton@yahoo.com  PERSONAL_PROJECTS   \n",
              "8          PaulAmsel@hotmail.com  PERSONAL_PROJECTS   \n",
              "9  CarlaFerreiraSantos@gustr.com         ORG_INVITE   \n",
              "\n",
              "   last_session_creation_time  opted_in_to_mailing_list  \\\n",
              "0                1.398139e+09                         1   \n",
              "1                1.396238e+09                         0   \n",
              "2                1.363735e+09                         0   \n",
              "3                1.369210e+09                         0   \n",
              "4                1.358850e+09                         0   \n",
              "5                1.387424e+09                         0   \n",
              "6                1.356010e+09                         0   \n",
              "7                         NaN                         1   \n",
              "8                         NaN                         0   \n",
              "9                1.401833e+09                         1   \n",
              "\n",
              "   enabled_for_marketing_drip  org_id  invited_by_user_id  \n",
              "0                           0      11             10803.0  \n",
              "1                           0       1               316.0  \n",
              "2                           0      94              1525.0  \n",
              "3                           0       1              5151.0  \n",
              "4                           0     193              5240.0  \n",
              "5                           0     197             11241.0  \n",
              "6                           1      37                 NaN  \n",
              "7                           1      74                 NaN  \n",
              "8                           0     302                 NaN  \n",
              "9                           1     318              4143.0  "
            ],
            "text/html": [
              "\n",
              "  <div id=\"df-785386ab-028f-4062-a9c5-d397bf58f33b\">\n",
              "    <div class=\"colab-df-container\">\n",
              "      <div>\n",
              "<style scoped>\n",
              "    .dataframe tbody tr th:only-of-type {\n",
              "        vertical-align: middle;\n",
              "    }\n",
              "\n",
              "    .dataframe tbody tr th {\n",
              "        vertical-align: top;\n",
              "    }\n",
              "\n",
              "    .dataframe thead th {\n",
              "        text-align: right;\n",
              "    }\n",
              "</style>\n",
              "<table border=\"1\" class=\"dataframe\">\n",
              "  <thead>\n",
              "    <tr style=\"text-align: right;\">\n",
              "      <th></th>\n",
              "      <th>object_id</th>\n",
              "      <th>creation_time</th>\n",
              "      <th>name</th>\n",
              "      <th>email</th>\n",
              "      <th>creation_source</th>\n",
              "      <th>last_session_creation_time</th>\n",
              "      <th>opted_in_to_mailing_list</th>\n",
              "      <th>enabled_for_marketing_drip</th>\n",
              "      <th>org_id</th>\n",
              "      <th>invited_by_user_id</th>\n",
              "    </tr>\n",
              "  </thead>\n",
              "  <tbody>\n",
              "    <tr>\n",
              "      <th>0</th>\n",
              "      <td>1</td>\n",
              "      <td>2014-04-22 03:53:30</td>\n",
              "      <td>Clausen August</td>\n",
              "      <td>AugustCClausen@yahoo.com</td>\n",
              "      <td>GUEST_INVITE</td>\n",
              "      <td>1.398139e+09</td>\n",
              "      <td>1</td>\n",
              "      <td>0</td>\n",
              "      <td>11</td>\n",
              "      <td>10803.0</td>\n",
              "    </tr>\n",
              "    <tr>\n",
              "      <th>1</th>\n",
              "      <td>2</td>\n",
              "      <td>2013-11-15 03:45:04</td>\n",
              "      <td>Poole Matthew</td>\n",
              "      <td>MatthewPoole@gustr.com</td>\n",
              "      <td>ORG_INVITE</td>\n",
              "      <td>1.396238e+09</td>\n",
              "      <td>0</td>\n",
              "      <td>0</td>\n",
              "      <td>1</td>\n",
              "      <td>316.0</td>\n",
              "    </tr>\n",
              "    <tr>\n",
              "      <th>2</th>\n",
              "      <td>3</td>\n",
              "      <td>2013-03-19 23:14:52</td>\n",
              "      <td>Bottrill Mitchell</td>\n",
              "      <td>MitchellBottrill@gustr.com</td>\n",
              "      <td>ORG_INVITE</td>\n",
              "      <td>1.363735e+09</td>\n",
              "      <td>0</td>\n",
              "      <td>0</td>\n",
              "      <td>94</td>\n",
              "      <td>1525.0</td>\n",
              "    </tr>\n",
              "    <tr>\n",
              "      <th>3</th>\n",
              "      <td>4</td>\n",
              "      <td>2013-05-21 08:09:28</td>\n",
              "      <td>Clausen Nicklas</td>\n",
              "      <td>NicklasSClausen@yahoo.com</td>\n",
              "      <td>GUEST_INVITE</td>\n",
              "      <td>1.369210e+09</td>\n",
              "      <td>0</td>\n",
              "      <td>0</td>\n",
              "      <td>1</td>\n",
              "      <td>5151.0</td>\n",
              "    </tr>\n",
              "    <tr>\n",
              "      <th>4</th>\n",
              "      <td>5</td>\n",
              "      <td>2013-01-17 10:14:20</td>\n",
              "      <td>Raw Grace</td>\n",
              "      <td>GraceRaw@yahoo.com</td>\n",
              "      <td>GUEST_INVITE</td>\n",
              "      <td>1.358850e+09</td>\n",
              "      <td>0</td>\n",
              "      <td>0</td>\n",
              "      <td>193</td>\n",
              "      <td>5240.0</td>\n",
              "    </tr>\n",
              "    <tr>\n",
              "      <th>5</th>\n",
              "      <td>6</td>\n",
              "      <td>2013-12-17 03:37:06</td>\n",
              "      <td>Cunha Eduardo</td>\n",
              "      <td>EduardoPereiraCunha@yahoo.com</td>\n",
              "      <td>GUEST_INVITE</td>\n",
              "      <td>1.387424e+09</td>\n",
              "      <td>0</td>\n",
              "      <td>0</td>\n",
              "      <td>197</td>\n",
              "      <td>11241.0</td>\n",
              "    </tr>\n",
              "    <tr>\n",
              "      <th>6</th>\n",
              "      <td>7</td>\n",
              "      <td>2012-12-16 13:24:32</td>\n",
              "      <td>Sewell Tyler</td>\n",
              "      <td>TylerSewell@jourrapide.com</td>\n",
              "      <td>SIGNUP</td>\n",
              "      <td>1.356010e+09</td>\n",
              "      <td>0</td>\n",
              "      <td>1</td>\n",
              "      <td>37</td>\n",
              "      <td>NaN</td>\n",
              "    </tr>\n",
              "    <tr>\n",
              "      <th>7</th>\n",
              "      <td>8</td>\n",
              "      <td>2013-07-31 05:34:02</td>\n",
              "      <td>Hamilton Danielle</td>\n",
              "      <td>DanielleHamilton@yahoo.com</td>\n",
              "      <td>PERSONAL_PROJECTS</td>\n",
              "      <td>NaN</td>\n",
              "      <td>1</td>\n",
              "      <td>1</td>\n",
              "      <td>74</td>\n",
              "      <td>NaN</td>\n",
              "    </tr>\n",
              "    <tr>\n",
              "      <th>8</th>\n",
              "      <td>9</td>\n",
              "      <td>2013-11-05 04:04:24</td>\n",
              "      <td>Amsel Paul</td>\n",
              "      <td>PaulAmsel@hotmail.com</td>\n",
              "      <td>PERSONAL_PROJECTS</td>\n",
              "      <td>NaN</td>\n",
              "      <td>0</td>\n",
              "      <td>0</td>\n",
              "      <td>302</td>\n",
              "      <td>NaN</td>\n",
              "    </tr>\n",
              "    <tr>\n",
              "      <th>9</th>\n",
              "      <td>10</td>\n",
              "      <td>2013-01-16 22:08:03</td>\n",
              "      <td>Santos Carla</td>\n",
              "      <td>CarlaFerreiraSantos@gustr.com</td>\n",
              "      <td>ORG_INVITE</td>\n",
              "      <td>1.401833e+09</td>\n",
              "      <td>1</td>\n",
              "      <td>1</td>\n",
              "      <td>318</td>\n",
              "      <td>4143.0</td>\n",
              "    </tr>\n",
              "  </tbody>\n",
              "</table>\n",
              "</div>\n",
              "      <button class=\"colab-df-convert\" onclick=\"convertToInteractive('df-785386ab-028f-4062-a9c5-d397bf58f33b')\"\n",
              "              title=\"Convert this dataframe to an interactive table.\"\n",
              "              style=\"display:none;\">\n",
              "        \n",
              "  <svg xmlns=\"http://www.w3.org/2000/svg\" height=\"24px\"viewBox=\"0 0 24 24\"\n",
              "       width=\"24px\">\n",
              "    <path d=\"M0 0h24v24H0V0z\" fill=\"none\"/>\n",
              "    <path d=\"M18.56 5.44l.94 2.06.94-2.06 2.06-.94-2.06-.94-.94-2.06-.94 2.06-2.06.94zm-11 1L8.5 8.5l.94-2.06 2.06-.94-2.06-.94L8.5 2.5l-.94 2.06-2.06.94zm10 10l.94 2.06.94-2.06 2.06-.94-2.06-.94-.94-2.06-.94 2.06-2.06.94z\"/><path d=\"M17.41 7.96l-1.37-1.37c-.4-.4-.92-.59-1.43-.59-.52 0-1.04.2-1.43.59L10.3 9.45l-7.72 7.72c-.78.78-.78 2.05 0 2.83L4 21.41c.39.39.9.59 1.41.59.51 0 1.02-.2 1.41-.59l7.78-7.78 2.81-2.81c.8-.78.8-2.07 0-2.86zM5.41 20L4 18.59l7.72-7.72 1.47 1.35L5.41 20z\"/>\n",
              "  </svg>\n",
              "      </button>\n",
              "      \n",
              "  <style>\n",
              "    .colab-df-container {\n",
              "      display:flex;\n",
              "      flex-wrap:wrap;\n",
              "      gap: 12px;\n",
              "    }\n",
              "\n",
              "    .colab-df-convert {\n",
              "      background-color: #E8F0FE;\n",
              "      border: none;\n",
              "      border-radius: 50%;\n",
              "      cursor: pointer;\n",
              "      display: none;\n",
              "      fill: #1967D2;\n",
              "      height: 32px;\n",
              "      padding: 0 0 0 0;\n",
              "      width: 32px;\n",
              "    }\n",
              "\n",
              "    .colab-df-convert:hover {\n",
              "      background-color: #E2EBFA;\n",
              "      box-shadow: 0px 1px 2px rgba(60, 64, 67, 0.3), 0px 1px 3px 1px rgba(60, 64, 67, 0.15);\n",
              "      fill: #174EA6;\n",
              "    }\n",
              "\n",
              "    [theme=dark] .colab-df-convert {\n",
              "      background-color: #3B4455;\n",
              "      fill: #D2E3FC;\n",
              "    }\n",
              "\n",
              "    [theme=dark] .colab-df-convert:hover {\n",
              "      background-color: #434B5C;\n",
              "      box-shadow: 0px 1px 3px 1px rgba(0, 0, 0, 0.15);\n",
              "      filter: drop-shadow(0px 1px 2px rgba(0, 0, 0, 0.3));\n",
              "      fill: #FFFFFF;\n",
              "    }\n",
              "  </style>\n",
              "\n",
              "      <script>\n",
              "        const buttonEl =\n",
              "          document.querySelector('#df-785386ab-028f-4062-a9c5-d397bf58f33b button.colab-df-convert');\n",
              "        buttonEl.style.display =\n",
              "          google.colab.kernel.accessAllowed ? 'block' : 'none';\n",
              "\n",
              "        async function convertToInteractive(key) {\n",
              "          const element = document.querySelector('#df-785386ab-028f-4062-a9c5-d397bf58f33b');\n",
              "          const dataTable =\n",
              "            await google.colab.kernel.invokeFunction('convertToInteractive',\n",
              "                                                     [key], {});\n",
              "          if (!dataTable) return;\n",
              "\n",
              "          const docLinkHtml = 'Like what you see? Visit the ' +\n",
              "            '<a target=\"_blank\" href=https://colab.research.google.com/notebooks/data_table.ipynb>data table notebook</a>'\n",
              "            + ' to learn more about interactive tables.';\n",
              "          element.innerHTML = '';\n",
              "          dataTable['output_type'] = 'display_data';\n",
              "          await google.colab.output.renderOutput(dataTable, element);\n",
              "          const docLink = document.createElement('div');\n",
              "          docLink.innerHTML = docLinkHtml;\n",
              "          element.appendChild(docLink);\n",
              "        }\n",
              "      </script>\n",
              "    </div>\n",
              "  </div>\n",
              "  "
            ]
          },
          "metadata": {},
          "execution_count": 24
        }
      ]
    },
    {
      "cell_type": "code",
      "source": [
        "adopted_user=[]\n",
        "for i in range(df1.shape[0]):\n",
        "  if df1.loc[i,'object_id'] in user_adopted:\n",
        "    adopted_user.append(1)\n",
        "  else:\n",
        "    adopted_user.append(0)"
      ],
      "metadata": {
        "id": "Lt_Jhaf5AzZH"
      },
      "execution_count": 25,
      "outputs": []
    },
    {
      "cell_type": "code",
      "source": [
        "df1=df1.assign(**{'adopted_user':adopted_user})"
      ],
      "metadata": {
        "id": "j9gN-vNEB8Bm"
      },
      "execution_count": 26,
      "outputs": []
    },
    {
      "cell_type": "code",
      "source": [
        "df1.head()"
      ],
      "metadata": {
        "colab": {
          "base_uri": "https://localhost:8080/",
          "height": 357
        },
        "id": "U36X4QQMB_G7",
        "outputId": "04e5237a-88ec-4b65-c181-a193a1288326"
      },
      "execution_count": 27,
      "outputs": [
        {
          "output_type": "execute_result",
          "data": {
            "text/plain": [
              "   object_id        creation_time               name  \\\n",
              "0          1  2014-04-22 03:53:30     Clausen August   \n",
              "1          2  2013-11-15 03:45:04      Poole Matthew   \n",
              "2          3  2013-03-19 23:14:52  Bottrill Mitchell   \n",
              "3          4  2013-05-21 08:09:28    Clausen Nicklas   \n",
              "4          5  2013-01-17 10:14:20          Raw Grace   \n",
              "\n",
              "                        email creation_source  last_session_creation_time  \\\n",
              "0    AugustCClausen@yahoo.com    GUEST_INVITE                1.398139e+09   \n",
              "1      MatthewPoole@gustr.com      ORG_INVITE                1.396238e+09   \n",
              "2  MitchellBottrill@gustr.com      ORG_INVITE                1.363735e+09   \n",
              "3   NicklasSClausen@yahoo.com    GUEST_INVITE                1.369210e+09   \n",
              "4          GraceRaw@yahoo.com    GUEST_INVITE                1.358850e+09   \n",
              "\n",
              "   opted_in_to_mailing_list  enabled_for_marketing_drip  org_id  \\\n",
              "0                         1                           0      11   \n",
              "1                         0                           0       1   \n",
              "2                         0                           0      94   \n",
              "3                         0                           0       1   \n",
              "4                         0                           0     193   \n",
              "\n",
              "   invited_by_user_id  adopted_user  \n",
              "0             10803.0             0  \n",
              "1               316.0             1  \n",
              "2              1525.0             0  \n",
              "3              5151.0             0  \n",
              "4              5240.0             0  "
            ],
            "text/html": [
              "\n",
              "  <div id=\"df-04616748-4a99-4cec-b5fb-e50e7cd3cbb2\">\n",
              "    <div class=\"colab-df-container\">\n",
              "      <div>\n",
              "<style scoped>\n",
              "    .dataframe tbody tr th:only-of-type {\n",
              "        vertical-align: middle;\n",
              "    }\n",
              "\n",
              "    .dataframe tbody tr th {\n",
              "        vertical-align: top;\n",
              "    }\n",
              "\n",
              "    .dataframe thead th {\n",
              "        text-align: right;\n",
              "    }\n",
              "</style>\n",
              "<table border=\"1\" class=\"dataframe\">\n",
              "  <thead>\n",
              "    <tr style=\"text-align: right;\">\n",
              "      <th></th>\n",
              "      <th>object_id</th>\n",
              "      <th>creation_time</th>\n",
              "      <th>name</th>\n",
              "      <th>email</th>\n",
              "      <th>creation_source</th>\n",
              "      <th>last_session_creation_time</th>\n",
              "      <th>opted_in_to_mailing_list</th>\n",
              "      <th>enabled_for_marketing_drip</th>\n",
              "      <th>org_id</th>\n",
              "      <th>invited_by_user_id</th>\n",
              "      <th>adopted_user</th>\n",
              "    </tr>\n",
              "  </thead>\n",
              "  <tbody>\n",
              "    <tr>\n",
              "      <th>0</th>\n",
              "      <td>1</td>\n",
              "      <td>2014-04-22 03:53:30</td>\n",
              "      <td>Clausen August</td>\n",
              "      <td>AugustCClausen@yahoo.com</td>\n",
              "      <td>GUEST_INVITE</td>\n",
              "      <td>1.398139e+09</td>\n",
              "      <td>1</td>\n",
              "      <td>0</td>\n",
              "      <td>11</td>\n",
              "      <td>10803.0</td>\n",
              "      <td>0</td>\n",
              "    </tr>\n",
              "    <tr>\n",
              "      <th>1</th>\n",
              "      <td>2</td>\n",
              "      <td>2013-11-15 03:45:04</td>\n",
              "      <td>Poole Matthew</td>\n",
              "      <td>MatthewPoole@gustr.com</td>\n",
              "      <td>ORG_INVITE</td>\n",
              "      <td>1.396238e+09</td>\n",
              "      <td>0</td>\n",
              "      <td>0</td>\n",
              "      <td>1</td>\n",
              "      <td>316.0</td>\n",
              "      <td>1</td>\n",
              "    </tr>\n",
              "    <tr>\n",
              "      <th>2</th>\n",
              "      <td>3</td>\n",
              "      <td>2013-03-19 23:14:52</td>\n",
              "      <td>Bottrill Mitchell</td>\n",
              "      <td>MitchellBottrill@gustr.com</td>\n",
              "      <td>ORG_INVITE</td>\n",
              "      <td>1.363735e+09</td>\n",
              "      <td>0</td>\n",
              "      <td>0</td>\n",
              "      <td>94</td>\n",
              "      <td>1525.0</td>\n",
              "      <td>0</td>\n",
              "    </tr>\n",
              "    <tr>\n",
              "      <th>3</th>\n",
              "      <td>4</td>\n",
              "      <td>2013-05-21 08:09:28</td>\n",
              "      <td>Clausen Nicklas</td>\n",
              "      <td>NicklasSClausen@yahoo.com</td>\n",
              "      <td>GUEST_INVITE</td>\n",
              "      <td>1.369210e+09</td>\n",
              "      <td>0</td>\n",
              "      <td>0</td>\n",
              "      <td>1</td>\n",
              "      <td>5151.0</td>\n",
              "      <td>0</td>\n",
              "    </tr>\n",
              "    <tr>\n",
              "      <th>4</th>\n",
              "      <td>5</td>\n",
              "      <td>2013-01-17 10:14:20</td>\n",
              "      <td>Raw Grace</td>\n",
              "      <td>GraceRaw@yahoo.com</td>\n",
              "      <td>GUEST_INVITE</td>\n",
              "      <td>1.358850e+09</td>\n",
              "      <td>0</td>\n",
              "      <td>0</td>\n",
              "      <td>193</td>\n",
              "      <td>5240.0</td>\n",
              "      <td>0</td>\n",
              "    </tr>\n",
              "  </tbody>\n",
              "</table>\n",
              "</div>\n",
              "      <button class=\"colab-df-convert\" onclick=\"convertToInteractive('df-04616748-4a99-4cec-b5fb-e50e7cd3cbb2')\"\n",
              "              title=\"Convert this dataframe to an interactive table.\"\n",
              "              style=\"display:none;\">\n",
              "        \n",
              "  <svg xmlns=\"http://www.w3.org/2000/svg\" height=\"24px\"viewBox=\"0 0 24 24\"\n",
              "       width=\"24px\">\n",
              "    <path d=\"M0 0h24v24H0V0z\" fill=\"none\"/>\n",
              "    <path d=\"M18.56 5.44l.94 2.06.94-2.06 2.06-.94-2.06-.94-.94-2.06-.94 2.06-2.06.94zm-11 1L8.5 8.5l.94-2.06 2.06-.94-2.06-.94L8.5 2.5l-.94 2.06-2.06.94zm10 10l.94 2.06.94-2.06 2.06-.94-2.06-.94-.94-2.06-.94 2.06-2.06.94z\"/><path d=\"M17.41 7.96l-1.37-1.37c-.4-.4-.92-.59-1.43-.59-.52 0-1.04.2-1.43.59L10.3 9.45l-7.72 7.72c-.78.78-.78 2.05 0 2.83L4 21.41c.39.39.9.59 1.41.59.51 0 1.02-.2 1.41-.59l7.78-7.78 2.81-2.81c.8-.78.8-2.07 0-2.86zM5.41 20L4 18.59l7.72-7.72 1.47 1.35L5.41 20z\"/>\n",
              "  </svg>\n",
              "      </button>\n",
              "      \n",
              "  <style>\n",
              "    .colab-df-container {\n",
              "      display:flex;\n",
              "      flex-wrap:wrap;\n",
              "      gap: 12px;\n",
              "    }\n",
              "\n",
              "    .colab-df-convert {\n",
              "      background-color: #E8F0FE;\n",
              "      border: none;\n",
              "      border-radius: 50%;\n",
              "      cursor: pointer;\n",
              "      display: none;\n",
              "      fill: #1967D2;\n",
              "      height: 32px;\n",
              "      padding: 0 0 0 0;\n",
              "      width: 32px;\n",
              "    }\n",
              "\n",
              "    .colab-df-convert:hover {\n",
              "      background-color: #E2EBFA;\n",
              "      box-shadow: 0px 1px 2px rgba(60, 64, 67, 0.3), 0px 1px 3px 1px rgba(60, 64, 67, 0.15);\n",
              "      fill: #174EA6;\n",
              "    }\n",
              "\n",
              "    [theme=dark] .colab-df-convert {\n",
              "      background-color: #3B4455;\n",
              "      fill: #D2E3FC;\n",
              "    }\n",
              "\n",
              "    [theme=dark] .colab-df-convert:hover {\n",
              "      background-color: #434B5C;\n",
              "      box-shadow: 0px 1px 3px 1px rgba(0, 0, 0, 0.15);\n",
              "      filter: drop-shadow(0px 1px 2px rgba(0, 0, 0, 0.3));\n",
              "      fill: #FFFFFF;\n",
              "    }\n",
              "  </style>\n",
              "\n",
              "      <script>\n",
              "        const buttonEl =\n",
              "          document.querySelector('#df-04616748-4a99-4cec-b5fb-e50e7cd3cbb2 button.colab-df-convert');\n",
              "        buttonEl.style.display =\n",
              "          google.colab.kernel.accessAllowed ? 'block' : 'none';\n",
              "\n",
              "        async function convertToInteractive(key) {\n",
              "          const element = document.querySelector('#df-04616748-4a99-4cec-b5fb-e50e7cd3cbb2');\n",
              "          const dataTable =\n",
              "            await google.colab.kernel.invokeFunction('convertToInteractive',\n",
              "                                                     [key], {});\n",
              "          if (!dataTable) return;\n",
              "\n",
              "          const docLinkHtml = 'Like what you see? Visit the ' +\n",
              "            '<a target=\"_blank\" href=https://colab.research.google.com/notebooks/data_table.ipynb>data table notebook</a>'\n",
              "            + ' to learn more about interactive tables.';\n",
              "          element.innerHTML = '';\n",
              "          dataTable['output_type'] = 'display_data';\n",
              "          await google.colab.output.renderOutput(dataTable, element);\n",
              "          const docLink = document.createElement('div');\n",
              "          docLink.innerHTML = docLinkHtml;\n",
              "          element.appendChild(docLink);\n",
              "        }\n",
              "      </script>\n",
              "    </div>\n",
              "  </div>\n",
              "  "
            ]
          },
          "metadata": {},
          "execution_count": 27
        }
      ]
    },
    {
      "cell_type": "code",
      "source": [
        "df1.dtypes"
      ],
      "metadata": {
        "colab": {
          "base_uri": "https://localhost:8080/"
        },
        "id": "EMLEoPtrCCWC",
        "outputId": "5617da8f-eb3b-4253-e6d0-201779eb169a"
      },
      "execution_count": 28,
      "outputs": [
        {
          "output_type": "execute_result",
          "data": {
            "text/plain": [
              "object_id                       int64\n",
              "creation_time                  object\n",
              "name                           object\n",
              "email                          object\n",
              "creation_source                object\n",
              "last_session_creation_time    float64\n",
              "opted_in_to_mailing_list        int64\n",
              "enabled_for_marketing_drip      int64\n",
              "org_id                          int64\n",
              "invited_by_user_id            float64\n",
              "adopted_user                    int64\n",
              "dtype: object"
            ]
          },
          "metadata": {},
          "execution_count": 28
        }
      ]
    },
    {
      "cell_type": "code",
      "source": [
        "df1.isnull().sum()"
      ],
      "metadata": {
        "colab": {
          "base_uri": "https://localhost:8080/"
        },
        "id": "bUeW3MTsCMmC",
        "outputId": "ca453ae7-59c9-4444-9464-4775aa10376d"
      },
      "execution_count": 29,
      "outputs": [
        {
          "output_type": "execute_result",
          "data": {
            "text/plain": [
              "object_id                        0\n",
              "creation_time                    0\n",
              "name                             0\n",
              "email                            0\n",
              "creation_source                  0\n",
              "last_session_creation_time    3177\n",
              "opted_in_to_mailing_list         0\n",
              "enabled_for_marketing_drip       0\n",
              "org_id                           0\n",
              "invited_by_user_id            5583\n",
              "adopted_user                     0\n",
              "dtype: int64"
            ]
          },
          "metadata": {},
          "execution_count": 29
        }
      ]
    },
    {
      "cell_type": "code",
      "source": [
        "del df1['last_session_creation_time']"
      ],
      "metadata": {
        "id": "hAt4btSICP9Q"
      },
      "execution_count": 30,
      "outputs": []
    },
    {
      "cell_type": "code",
      "source": [
        "df1.invited_by_user_id =df1.invited_by_user_id.fillna(0) # fill nan places with zero"
      ],
      "metadata": {
        "id": "xdx1ybKCCT_n"
      },
      "execution_count": 31,
      "outputs": []
    },
    {
      "cell_type": "code",
      "source": [
        "df1.isnull().sum()"
      ],
      "metadata": {
        "colab": {
          "base_uri": "https://localhost:8080/"
        },
        "id": "5DeaSEZPCajy",
        "outputId": "1628845b-1233-4e7b-e46e-c1871a0e2097"
      },
      "execution_count": 32,
      "outputs": [
        {
          "output_type": "execute_result",
          "data": {
            "text/plain": [
              "object_id                     0\n",
              "creation_time                 0\n",
              "name                          0\n",
              "email                         0\n",
              "creation_source               0\n",
              "opted_in_to_mailing_list      0\n",
              "enabled_for_marketing_drip    0\n",
              "org_id                        0\n",
              "invited_by_user_id            0\n",
              "adopted_user                  0\n",
              "dtype: int64"
            ]
          },
          "metadata": {},
          "execution_count": 32
        }
      ]
    },
    {
      "cell_type": "code",
      "source": [
        "df1.to_csv('adapted_user_engagement')"
      ],
      "metadata": {
        "id": "N4Nx2AgyVp0x"
      },
      "execution_count": 33,
      "outputs": []
    },
    {
      "cell_type": "markdown",
      "source": [
        "# **Data Visualization**"
      ],
      "metadata": {
        "id": "63uxqTENCkdZ"
      }
    },
    {
      "cell_type": "code",
      "source": [
        "df1.groupby('org_id')['adopted_user'].sum().plot(kind='bar', title='Adopted users of all org_id')\n",
        "org=df1.groupby('org_id')['adopted_user'].sum()\n",
        "orgdf=pd.DataFrame(org)\n",
        "print('ord id which has max number of adopted users=', org.idxmax(), 'with value', orgdf.loc[org.idxmax(),'adopted_user'])"
      ],
      "metadata": {
        "colab": {
          "base_uri": "https://localhost:8080/",
          "height": 322
        },
        "id": "UYhrwRPfCsY8",
        "outputId": "75489e9b-badc-412d-8f38-1de8bedb3908"
      },
      "execution_count": 34,
      "outputs": [
        {
          "output_type": "stream",
          "name": "stdout",
          "text": [
            "ord id which has max number of adopted users= 1 with value 16\n"
          ]
        },
        {
          "output_type": "display_data",
          "data": {
            "text/plain": [
              "<Figure size 432x288 with 1 Axes>"
            ],
            "image/png": "[encoded data removed]"
          },
          "metadata": {
            "needs_background": "light"
          }
        }
      ]
    },
    {
      "cell_type": "code",
      "source": [
        "#code to check number of users opted for mailing list\n",
        "df1.opted_in_to_mailing_list.value_counts().plot(kind='bar', title=\"Number of user opted for mailing list vs not opted\", width=0.3)\n",
        "df1.opted_in_to_mailing_list.value_counts()"
      ],
      "metadata": {
        "colab": {
          "base_uri": "https://localhost:8080/",
          "height": 330
        },
        "id": "MOuFDv-YhxAG",
        "outputId": "cc248cd6-e204-4a23-bd18-fb53bb5fd598"
      },
      "execution_count": 35,
      "outputs": [
        {
          "output_type": "execute_result",
          "data": {
            "text/plain": [
              "0    9006\n",
              "1    2994\n",
              "Name: opted_in_to_mailing_list, dtype: int64"
            ]
          },
          "metadata": {},
          "execution_count": 35
        },
        {
          "output_type": "display_data",
          "data": {
            "text/plain": [
              "<Figure size 432x288 with 1 Axes>"
            ],
            "image/png": "[encoded data removed]"
          },
          "metadata": {
            "needs_background": "light"
          }
        }
      ]
    },
    {
      "cell_type": "code",
      "source": [
        "#check number of adopted users opted for mailing list.\n",
        "adopteduser_mailing=0\n",
        "for i in range(df1.shape[0]):\n",
        "  if df1.loc[i,'opted_in_to_mailing_list']==1 and df1.loc[i,'adopted_user']==1:\n",
        "    adopteduser_mailing=adopteduser_mailing+1\n",
        "print(adopteduser_mailing)"
      ],
      "metadata": {
        "colab": {
          "base_uri": "https://localhost:8080/"
        },
        "id": "wa3CNOMLjKOw",
        "outputId": "9288d8d2-1fa6-4ebd-9588-b08cb4439cab"
      },
      "execution_count": 36,
      "outputs": [
        {
          "output_type": "stream",
          "name": "stdout",
          "text": [
            "416\n"
          ]
        }
      ]
    },
    {
      "cell_type": "code",
      "source": [
        "c1=0 #adopted users count if invited by any user.\n",
        "c0=0\n",
        "for i in range(df1.shape[0]):\n",
        "  if df1.loc[i,'invited_by_user_id']==1 and df1.loc[i,'adopted_user']==1:\n",
        "    c1=c1+1\n",
        "  elif df1.loc[i,'invited_by_user_id']==0 and df1.loc[i,'adopted_user']==1: \n",
        "    c0=c0+1\n",
        "print(c1, c0)"
      ],
      "metadata": {
        "colab": {
          "base_uri": "https://localhost:8080/"
        },
        "id": "EmrXIrtBmemS",
        "outputId": "472821c3-6877-4caa-f373-c8ea5f75bd3f"
      },
      "execution_count": 37,
      "outputs": [
        {
          "output_type": "stream",
          "name": "stdout",
          "text": [
            "0 689\n"
          ]
        }
      ]
    },
    {
      "cell_type": "code",
      "source": [
        "#code to check number of users opted for marketing drip\n",
        "df1.enabled_for_marketing_drip.value_counts().plot(kind='bar', title='Number of users opted for mailing drip', width=0.3)\n",
        "adopteduser_marketing=0\n",
        "for i in range(df1.shape[0]):\n",
        "  if df1.loc[i,'enabled_for_marketing_drip']==1 and df1.loc[i,'adopted_user']==1:\n",
        "    adopteduser_marketing=adopteduser_marketing+1\n",
        "print('Adopted users enabled marketing drip',adopteduser_marketing)\n",
        "df1.enabled_for_marketing_drip.value_counts()"
      ],
      "metadata": {
        "colab": {
          "base_uri": "https://localhost:8080/",
          "height": 347
        },
        "id": "SR20OA7imiDA",
        "outputId": "b838b19d-7389-4e4d-bea2-430b6804dc84"
      },
      "execution_count": 38,
      "outputs": [
        {
          "output_type": "stream",
          "name": "stdout",
          "text": [
            "Adopted users enabled marketing drip 254\n"
          ]
        },
        {
          "output_type": "execute_result",
          "data": {
            "text/plain": [
              "0    10208\n",
              "1     1792\n",
              "Name: enabled_for_marketing_drip, dtype: int64"
            ]
          },
          "metadata": {},
          "execution_count": 38
        },
        {
          "output_type": "display_data",
          "data": {
            "text/plain": [
              "<Figure size 432x288 with 1 Axes>"
            ],
            "image/png": "[encoded data removed]"
          },
          "metadata": {
            "needs_background": "light"
          }
        }
      ]
    },
    {
      "cell_type": "code",
      "source": [
        "df1.groupby('creation_source')['adopted_user'].sum().plot(kind='bar', title='Adopted user based oncreation source')\n",
        "df1.groupby('creation_source')['adopted_user'].sum()"
      ],
      "metadata": {
        "colab": {
          "base_uri": "https://localhost:8080/",
          "height": 525
        },
        "id": "S-ESdwgymls-",
        "outputId": "4e92bab6-1416-4a6e-a5a4-7d15765d01e3"
      },
      "execution_count": 39,
      "outputs": [
        {
          "output_type": "execute_result",
          "data": {
            "text/plain": [
              "creation_source\n",
              "GUEST_INVITE          359\n",
              "ORG_INVITE            559\n",
              "PERSONAL_PROJECTS     164\n",
              "SIGNUP                293\n",
              "SIGNUP_GOOGLE_AUTH    232\n",
              "Name: adopted_user, dtype: int64"
            ]
          },
          "metadata": {},
          "execution_count": 39
        },
        {
          "output_type": "display_data",
          "data": {
            "text/plain": [
              "<Figure size 432x288 with 1 Axes>"
            ],
            "image/png": "[encoded data removed]"
          },
          "metadata": {
            "needs_background": "light"
          }
        }
      ]
    },
    {
      "cell_type": "code",
      "source": [
        "df1.corr()"
      ],
      "metadata": {
        "colab": {
          "base_uri": "https://localhost:8080/",
          "height": 237
        },
        "id": "eSrxftT-msAn",
        "outputId": "df9073a8-4995-4c9d-9060-750b166d001b"
      },
      "execution_count": 40,
      "outputs": [
        {
          "output_type": "execute_result",
          "data": {
            "text/plain": [
              "                            object_id  opted_in_to_mailing_list  \\\n",
              "object_id                    1.000000                 -0.032370   \n",
              "opted_in_to_mailing_list    -0.032370                  1.000000   \n",
              "enabled_for_marketing_drip  -0.022040                  0.483529   \n",
              "org_id                       0.004110                  0.003432   \n",
              "invited_by_user_id           0.001657                  0.007536   \n",
              "adopted_user                 0.006515                  0.008512   \n",
              "\n",
              "                            enabled_for_marketing_drip    org_id  \\\n",
              "object_id                                    -0.022040  0.004110   \n",
              "opted_in_to_mailing_list                      0.483529  0.003432   \n",
              "enabled_for_marketing_drip                    1.000000  0.009275   \n",
              "org_id                                        0.009275  1.000000   \n",
              "invited_by_user_id                            0.003431 -0.040868   \n",
              "adopted_user                                  0.009626  0.063261   \n",
              "\n",
              "                            invited_by_user_id  adopted_user  \n",
              "object_id                             0.001657      0.006515  \n",
              "opted_in_to_mailing_list              0.007536      0.008512  \n",
              "enabled_for_marketing_drip            0.003431      0.009626  \n",
              "org_id                               -0.040868      0.063261  \n",
              "invited_by_user_id                    1.000000      0.020809  \n",
              "adopted_user                          0.020809      1.000000  "
            ],
            "text/html": [
              "\n",
              "  <div id=\"df-f4c058b0-05fa-4d48-a1b3-9dbd1d583a74\">\n",
              "    <div class=\"colab-df-container\">\n",
              "      <div>\n",
              "<style scoped>\n",
              "    .dataframe tbody tr th:only-of-type {\n",
              "        vertical-align: middle;\n",
              "    }\n",
              "\n",
              "    .dataframe tbody tr th {\n",
              "        vertical-align: top;\n",
              "    }\n",
              "\n",
              "    .dataframe thead th {\n",
              "        text-align: right;\n",
              "    }\n",
              "</style>\n",
              "<table border=\"1\" class=\"dataframe\">\n",
              "  <thead>\n",
              "    <tr style=\"text-align: right;\">\n",
              "      <th></th>\n",
              "      <th>object_id</th>\n",
              "      <th>opted_in_to_mailing_list</th>\n",
              "      <th>enabled_for_marketing_drip</th>\n",
              "      <th>org_id</th>\n",
              "      <th>invited_by_user_id</th>\n",
              "      <th>adopted_user</th>\n",
              "    </tr>\n",
              "  </thead>\n",
              "  <tbody>\n",
              "    <tr>\n",
              "      <th>object_id</th>\n",
              "      <td>1.000000</td>\n",
              "      <td>-0.032370</td>\n",
              "      <td>-0.022040</td>\n",
              "      <td>0.004110</td>\n",
              "      <td>0.001657</td>\n",
              "      <td>0.006515</td>\n",
              "    </tr>\n",
              "    <tr>\n",
              "      <th>opted_in_to_mailing_list</th>\n",
              "      <td>-0.032370</td>\n",
              "      <td>1.000000</td>\n",
              "      <td>0.483529</td>\n",
              "      <td>0.003432</td>\n",
              "      <td>0.007536</td>\n",
              "      <td>0.008512</td>\n",
              "    </tr>\n",
              "    <tr>\n",
              "      <th>enabled_for_marketing_drip</th>\n",
              "      <td>-0.022040</td>\n",
              "      <td>0.483529</td>\n",
              "      <td>1.000000</td>\n",
              "      <td>0.009275</td>\n",
              "      <td>0.003431</td>\n",
              "      <td>0.009626</td>\n",
              "    </tr>\n",
              "    <tr>\n",
              "      <th>org_id</th>\n",
              "      <td>0.004110</td>\n",
              "      <td>0.003432</td>\n",
              "      <td>0.009275</td>\n",
              "      <td>1.000000</td>\n",
              "      <td>-0.040868</td>\n",
              "      <td>0.063261</td>\n",
              "    </tr>\n",
              "    <tr>\n",
              "      <th>invited_by_user_id</th>\n",
              "      <td>0.001657</td>\n",
              "      <td>0.007536</td>\n",
              "      <td>0.003431</td>\n",
              "      <td>-0.040868</td>\n",
              "      <td>1.000000</td>\n",
              "      <td>0.020809</td>\n",
              "    </tr>\n",
              "    <tr>\n",
              "      <th>adopted_user</th>\n",
              "      <td>0.006515</td>\n",
              "      <td>0.008512</td>\n",
              "      <td>0.009626</td>\n",
              "      <td>0.063261</td>\n",
              "      <td>0.020809</td>\n",
              "      <td>1.000000</td>\n",
              "    </tr>\n",
              "  </tbody>\n",
              "</table>\n",
              "</div>\n",
              "      <button class=\"colab-df-convert\" onclick=\"convertToInteractive('df-f4c058b0-05fa-4d48-a1b3-9dbd1d583a74')\"\n",
              "              title=\"Convert this dataframe to an interactive table.\"\n",
              "              style=\"display:none;\">\n",
              "        \n",
              "  <svg xmlns=\"http://www.w3.org/2000/svg\" height=\"24px\"viewBox=\"0 0 24 24\"\n",
              "       width=\"24px\">\n",
              "    <path d=\"M0 0h24v24H0V0z\" fill=\"none\"/>\n",
              "    <path d=\"M18.56 5.44l.94 2.06.94-2.06 2.06-.94-2.06-.94-.94-2.06-.94 2.06-2.06.94zm-11 1L8.5 8.5l.94-2.06 2.06-.94-2.06-.94L8.5 2.5l-.94 2.06-2.06.94zm10 10l.94 2.06.94-2.06 2.06-.94-2.06-.94-.94-2.06-.94 2.06-2.06.94z\"/><path d=\"M17.41 7.96l-1.37-1.37c-.4-.4-.92-.59-1.43-.59-.52 0-1.04.2-1.43.59L10.3 9.45l-7.72 7.72c-.78.78-.78 2.05 0 2.83L4 21.41c.39.39.9.59 1.41.59.51 0 1.02-.2 1.41-.59l7.78-7.78 2.81-2.81c.8-.78.8-2.07 0-2.86zM5.41 20L4 18.59l7.72-7.72 1.47 1.35L5.41 20z\"/>\n",
              "  </svg>\n",
              "      </button>\n",
              "      \n",
              "  <style>\n",
              "    .colab-df-container {\n",
              "      display:flex;\n",
              "      flex-wrap:wrap;\n",
              "      gap: 12px;\n",
              "    }\n",
              "\n",
              "    .colab-df-convert {\n",
              "      background-color: #E8F0FE;\n",
              "      border: none;\n",
              "      border-radius: 50%;\n",
              "      cursor: pointer;\n",
              "      display: none;\n",
              "      fill: #1967D2;\n",
              "      height: 32px;\n",
              "      padding: 0 0 0 0;\n",
              "      width: 32px;\n",
              "    }\n",
              "\n",
              "    .colab-df-convert:hover {\n",
              "      background-color: #E2EBFA;\n",
              "      box-shadow: 0px 1px 2px rgba(60, 64, 67, 0.3), 0px 1px 3px 1px rgba(60, 64, 67, 0.15);\n",
              "      fill: #174EA6;\n",
              "    }\n",
              "\n",
              "    [theme=dark] .colab-df-convert {\n",
              "      background-color: #3B4455;\n",
              "      fill: #D2E3FC;\n",
              "    }\n",
              "\n",
              "    [theme=dark] .colab-df-convert:hover {\n",
              "      background-color: #434B5C;\n",
              "      box-shadow: 0px 1px 3px 1px rgba(0, 0, 0, 0.15);\n",
              "      filter: drop-shadow(0px 1px 2px rgba(0, 0, 0, 0.3));\n",
              "      fill: #FFFFFF;\n",
              "    }\n",
              "  </style>\n",
              "\n",
              "      <script>\n",
              "        const buttonEl =\n",
              "          document.querySelector('#df-f4c058b0-05fa-4d48-a1b3-9dbd1d583a74 button.colab-df-convert');\n",
              "        buttonEl.style.display =\n",
              "          google.colab.kernel.accessAllowed ? 'block' : 'none';\n",
              "\n",
              "        async function convertToInteractive(key) {\n",
              "          const element = document.querySelector('#df-f4c058b0-05fa-4d48-a1b3-9dbd1d583a74');\n",
              "          const dataTable =\n",
              "            await google.colab.kernel.invokeFunction('convertToInteractive',\n",
              "                                                     [key], {});\n",
              "          if (!dataTable) return;\n",
              "\n",
              "          const docLinkHtml = 'Like what you see? Visit the ' +\n",
              "            '<a target=\"_blank\" href=https://colab.research.google.com/notebooks/data_table.ipynb>data table notebook</a>'\n",
              "            + ' to learn more about interactive tables.';\n",
              "          element.innerHTML = '';\n",
              "          dataTable['output_type'] = 'display_data';\n",
              "          await google.colab.output.renderOutput(dataTable, element);\n",
              "          const docLink = document.createElement('div');\n",
              "          docLink.innerHTML = docLinkHtml;\n",
              "          element.appendChild(docLink);\n",
              "        }\n",
              "      </script>\n",
              "    </div>\n",
              "  </div>\n",
              "  "
            ]
          },
          "metadata": {},
          "execution_count": 40
        }
      ]
    },
    {
      "cell_type": "code",
      "source": [
        "#Based on our obersation Org users are more adopted then guest invite uses "
      ],
      "metadata": {
        "id": "LhEJuVSAmyYE"
      },
      "execution_count": null,
      "outputs": []
    },
    {
      "cell_type": "code",
      "source": [
        "data=pd.merge(df1,df, how='left', left_on='object_id', right_on='user_id')\n",
        "data.to_csv('product take home merged.csv')"
      ],
      "metadata": {
        "id": "rnByHON6m0Fk"
      },
      "execution_count": 41,
      "outputs": []
    },
    {
      "cell_type": "code",
      "source": [
        "data.columns"
      ],
      "metadata": {
        "colab": {
          "base_uri": "https://localhost:8080/"
        },
        "id": "XgXr3_XknByQ",
        "outputId": "5bbf4fe1-9dde-4c23-86c5-e7d5e81baec1"
      },
      "execution_count": 42,
      "outputs": [
        {
          "output_type": "execute_result",
          "data": {
            "text/plain": [
              "Index(['object_id', 'creation_time', 'name', 'email', 'creation_source',\n",
              "       'opted_in_to_mailing_list', 'enabled_for_marketing_drip', 'org_id',\n",
              "       'invited_by_user_id', 'adopted_user', 'time_stamp', 'user_id',\n",
              "       'visited', 'year', 'month', 'day', 'week'],\n",
              "      dtype='object')"
            ]
          },
          "metadata": {},
          "execution_count": 42
        }
      ]
    },
    {
      "cell_type": "code",
      "source": [
        "data.isnull().sum()"
      ],
      "metadata": {
        "colab": {
          "base_uri": "https://localhost:8080/"
        },
        "id": "pd2cPvQ9-JXe",
        "outputId": "ced7f100-e16a-4d33-9733-d839fbb5169a"
      },
      "execution_count": null,
      "outputs": [
        {
          "output_type": "execute_result",
          "data": {
            "text/plain": [
              "object_id                        0\n",
              "creation_time                    0\n",
              "name                             0\n",
              "email                            0\n",
              "creation_source                  0\n",
              "opted_in_to_mailing_list         0\n",
              "enabled_for_marketing_drip       0\n",
              "org_id                           0\n",
              "invited_by_user_id               0\n",
              "adopted_user                     0\n",
              "time_stamp                    3177\n",
              "user_id                       3177\n",
              "visited                       3177\n",
              "year                          3177\n",
              "month                         3177\n",
              "day                           3177\n",
              "week                          3177\n",
              "dtype: int64"
            ]
          },
          "metadata": {},
          "execution_count": 120
        }
      ]
    },
    {
      "cell_type": "code",
      "source": [
        "#there are few users who never visited any product, so let us make them as 0"
      ],
      "metadata": {
        "id": "LVlgyJDv_yRJ"
      },
      "execution_count": null,
      "outputs": []
    },
    {
      "cell_type": "code",
      "source": [
        "data.update(data[['user_id', 'visited', 'year', 'month','day']].fillna(0))"
      ],
      "metadata": {
        "id": "QiqT_VKJnQmn"
      },
      "execution_count": 43,
      "outputs": []
    },
    {
      "cell_type": "code",
      "source": [
        "data.to_csv('Product_engagement_final')"
      ],
      "metadata": {
        "id": "MoPRmZ_QnXpL"
      },
      "execution_count": 44,
      "outputs": []
    },
    {
      "cell_type": "code",
      "source": [
        "data.isnull().sum()"
      ],
      "metadata": {
        "colab": {
          "base_uri": "https://localhost:8080/"
        },
        "id": "i38WoWiXnb6B",
        "outputId": "a7d24d0b-737f-41ab-cedc-5284de975d1a"
      },
      "execution_count": 45,
      "outputs": [
        {
          "output_type": "execute_result",
          "data": {
            "text/plain": [
              "object_id                        0\n",
              "creation_time                    0\n",
              "name                             0\n",
              "email                            0\n",
              "creation_source                  0\n",
              "opted_in_to_mailing_list         0\n",
              "enabled_for_marketing_drip       0\n",
              "org_id                           0\n",
              "invited_by_user_id               0\n",
              "adopted_user                     0\n",
              "time_stamp                    3177\n",
              "user_id                          0\n",
              "visited                          0\n",
              "year                             0\n",
              "month                            0\n",
              "day                              0\n",
              "week                          3177\n",
              "dtype: int64"
            ]
          },
          "metadata": {},
          "execution_count": 45
        }
      ]
    },
    {
      "cell_type": "markdown",
      "source": [
        "# **ML Model**"
      ],
      "metadata": {
        "id": "PG06Zx6_nmSV"
      }
    },
    {
      "cell_type": "code",
      "source": [
        "from sklearn import preprocessing\n",
        "le = preprocessing.LabelEncoder()\n",
        "data[['creation_source']]=data[['creation_source']].apply(le.fit_transform)"
      ],
      "metadata": {
        "id": "4-ux2iy1nvWY"
      },
      "execution_count": 46,
      "outputs": []
    },
    {
      "cell_type": "code",
      "source": [
        "y=data.adopted_user.values\n",
        "x=data[['object_id','creation_source','opted_in_to_mailing_list',\n",
        "       'enabled_for_marketing_drip', 'org_id', 'invited_by_user_id', 'visited','year']]"
      ],
      "metadata": {
        "id": "iePCGHKzn_r-"
      },
      "execution_count": 47,
      "outputs": []
    },
    {
      "cell_type": "code",
      "source": [
        "from sklearn.model_selection import train_test_split\n",
        "x_train,x_test,y_train,y_test=train_test_split(x,y,test_size=0.3, random_state=3)\n",
        "from sklearn.tree import DecisionTreeClassifier\n",
        "from sklearn.metrics import roc_auc_score\n",
        "dtc=DecisionTreeClassifier()\n",
        "dtc.fit(x_train,y_train)\n",
        "y_pred=dtc.predict(x_test)\n",
        "result=roc_auc_score(y_test, y_pred)\n",
        "print('Auroc score=', result)\n",
        "result_act_pred=pd.DataFrame({'Actual_test': y_test, 'Predicted_test': y_pred})\n",
        "print(result_act_pred)"
      ],
      "metadata": {
        "colab": {
          "base_uri": "https://localhost:8080/"
        },
        "id": "67PSJD3RoFtX",
        "outputId": "88f3c793-e34b-47ed-b119-caadb8da13f2"
      },
      "execution_count": 48,
      "outputs": [
        {
          "output_type": "stream",
          "name": "stdout",
          "text": [
            "Auroc score= 0.9344866293051627\n",
            "       Actual_test  Predicted_test\n",
            "0                1               1\n",
            "1                1               1\n",
            "2                1               1\n",
            "3                1               1\n",
            "4                1               1\n",
            "...            ...             ...\n",
            "63324            1               1\n",
            "63325            1               1\n",
            "63326            1               1\n",
            "63327            1               1\n",
            "63328            1               1\n",
            "\n",
            "[63329 rows x 2 columns]\n"
          ]
        }
      ]
    },
    {
      "cell_type": "code",
      "source": [
        "#depth 20 is giving me max cross val score."
      ],
      "metadata": {
        "id": "9S_knLrjoQzm"
      },
      "execution_count": null,
      "outputs": []
    },
    {
      "cell_type": "code",
      "source": [
        "from sklearn.model_selection import train_test_split\n",
        "x_train,x_test,y_train,y_test=train_test_split(x,y,test_size=0.3, random_state=7)\n",
        "from sklearn.tree import DecisionTreeClassifier\n",
        "from sklearn.metrics import roc_auc_score\n",
        "dt=DecisionTreeClassifier(max_depth=20)\n",
        "dt.fit(x_train,y_train)\n",
        "y_pred=dtc.predict(x_test)\n",
        "print(y_pred)\n",
        "result=roc_auc_score(y_test, y_pred)\n",
        "print(result)"
      ],
      "metadata": {
        "colab": {
          "base_uri": "https://localhost:8080/"
        },
        "id": "d2Ns-D-toRnJ",
        "outputId": "2a582c12-06ee-4fc1-e80a-6510b1c4ba27"
      },
      "execution_count": 49,
      "outputs": [
        {
          "output_type": "stream",
          "name": "stdout",
          "text": [
            "[1 0 1 ... 1 1 1]\n",
            "0.9814806260453997\n"
          ]
        }
      ]
    },
    {
      "cell_type": "code",
      "source": [
        "# if max_depth is inc auroc is getting increased. "
      ],
      "metadata": {
        "id": "p-qGTzmwpZqV"
      },
      "execution_count": null,
      "outputs": []
    },
    {
      "cell_type": "code",
      "source": [
        "importance = dtc.feature_importances_\n",
        "list(zip(importance,x_test.columns))"
      ],
      "metadata": {
        "colab": {
          "base_uri": "https://localhost:8080/"
        },
        "id": "uim01E8_paq_",
        "outputId": "43def464-68b3-43e3-cb59-f1059d81e7f9"
      },
      "execution_count": 50,
      "outputs": [
        {
          "output_type": "execute_result",
          "data": {
            "text/plain": [
              "[(0.31225383880216356, 'object_id'),\n",
              " (0.03960011718283765, 'creation_source'),\n",
              " (0.024597866525950623, 'opted_in_to_mailing_list'),\n",
              " (0.016276720734609153, 'enabled_for_marketing_drip'),\n",
              " (0.22531489613568736, 'org_id'),\n",
              " (0.12696188170959308, 'invited_by_user_id'),\n",
              " (0.233263724709554, 'visited'),\n",
              " (0.02173095419960463, 'year')]"
            ]
          },
          "metadata": {},
          "execution_count": 50
        }
      ]
    },
    {
      "cell_type": "code",
      "source": [
        "features=[]\n",
        "for i in range(len(dtc.feature_importances_)):\n",
        "  features.append([round(dtc.feature_importances_[i],3),dtc.feature_names_in_[i]])\n",
        "sorted(features)"
      ],
      "metadata": {
        "colab": {
          "base_uri": "https://localhost:8080/"
        },
        "id": "Jts2g_W8pf7p",
        "outputId": "6b74e9f2-f00d-426b-af13-05aac3a3ec6d"
      },
      "execution_count": 51,
      "outputs": [
        {
          "output_type": "execute_result",
          "data": {
            "text/plain": [
              "[[0.016, 'enabled_for_marketing_drip'],\n",
              " [0.022, 'year'],\n",
              " [0.025, 'opted_in_to_mailing_list'],\n",
              " [0.04, 'creation_source'],\n",
              " [0.127, 'invited_by_user_id'],\n",
              " [0.225, 'org_id'],\n",
              " [0.233, 'visited'],\n",
              " [0.312, 'object_id']]"
            ]
          },
          "metadata": {},
          "execution_count": 51
        }
      ]
    },
    {
      "cell_type": "code",
      "source": [],
      "metadata": {
        "id": "EJ_0_ycepkPz"
      },
      "execution_count": null,
      "outputs": []
    }
  ]
}